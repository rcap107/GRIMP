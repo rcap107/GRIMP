{
 "cells": [
  {
   "cell_type": "code",
   "execution_count": 14,
   "metadata": {},
   "outputs": [],
   "source": [
    "import torch\n",
    "import GNNforImputation.imputation_tripartite_graph as imp_graphs\n",
    "from argparse import Namespace\n",
    "import pandas as pd\n",
    "import numpy as np"
   ]
  },
  {
   "cell_type": "code",
   "execution_count": 15,
   "metadata": {
    "collapsed": false,
    "jupyter": {
     "outputs_hidden": false
    },
    "pycharm": {
     "name": "#%%\n"
    }
   },
   "outputs": [],
   "source": [
    "device = torch.device(\"cuda\" if torch.cuda.is_available() else \"cpu\")\n",
    "\n",
    "original_data_file_name = 'data/fodors_zagats-master.csv'\n",
    "missing_value_file_name = 'data/fodors_zagats_city_10perc.csv'\n",
    "\n",
    "random_init = True\n",
    "\n",
    "pickle_file_name = None\n",
    "\n",
    "graph_method = 'triplet'\n",
    "\n",
    "# if args.external_feats:\n",
    "#     node_mapping, ext_features = read_external_features(args.external_feats)\n",
    "# else:\n",
    "ext_features = None\n",
    "node_mapping = None\n",
    "\n",
    "pos_neg_scale_factor = 1\n"
   ]
  },
  {
   "cell_type": "code",
   "execution_count": 16,
   "metadata": {
    "collapsed": false,
    "jupyter": {
     "outputs_hidden": false
    },
    "pycharm": {
     "name": "#%%\n"
    }
   },
   "outputs": [
    {
     "name": "stdout",
     "output_type": "stream",
     "text": [
      "Loading and computing basic stats\n",
      "Creating graph structure\n",
      "Graph has 4152 nodes and 20388 edges\n",
      "Computing graph features\n",
      "Creating positive and negative pos_triplets for training\n",
      "Size of training positive and negative pos_triplets  5097 5097\n",
      "Creating positive and negative pos_triplets for testing\n",
      "Size of testing positive and negative pos_triplets  87 4211\n",
      "positive test pos_triplets 87\n",
      "negative test pos_triplets 4211\n"
     ]
    }
   ],
   "source": [
    "if graph_method == 'edge':\n",
    "    predict_edges = True\n",
    "    graph_dataset = imp_graphs.ImputationTripartiteGraphEdgePrediction(original_data_file_name,\n",
    "                                                                              missing_value_file_name,\n",
    "                                                                              random_init,\n",
    "                                                                              node_mapping, ext_features,\n",
    "                                                                              pos_neg_scale_factor)\n",
    "elif graph_method == 'triplet':\n",
    "    predict_edges = False\n",
    "    graph_dataset = imp_graphs.ImputationTripartiteGraphTripletPrediction(original_data_file_name,\n",
    "                                                                                     missing_value_file_name,\n",
    "                                                                                     random_init,\n",
    "                                                                                     node_mapping, ext_features,\n",
    "                                                                                     predict_edges,\n",
    "                                                                                 pos_neg_scale_factor)"
   ]
  },
  {
   "cell_type": "code",
   "execution_count": 17,
   "metadata": {
    "collapsed": false,
    "jupyter": {
     "outputs_hidden": false
    },
    "pycharm": {
     "name": "#%%\n"
    }
   },
   "outputs": [],
   "source": [
    "train_pos = graph_dataset.train_positive_samples\n",
    "train_neg = graph_dataset.train_negative_samples"
   ]
  },
  {
   "cell_type": "code",
   "execution_count": 18,
   "metadata": {
    "collapsed": false,
    "jupyter": {
     "outputs_hidden": false
    },
    "pycharm": {
     "name": "#%%\n"
    }
   },
   "outputs": [
    {
     "data": {
      "text/plain": [
       "torch.Size([5097, 3])"
      ]
     },
     "execution_count": 18,
     "metadata": {},
     "output_type": "execute_result"
    }
   ],
   "source": [
    "train_neg.shape"
   ]
  },
  {
   "cell_type": "code",
   "execution_count": 19,
   "metadata": {
    "collapsed": false,
    "jupyter": {
     "outputs_hidden": false
    },
    "pycharm": {
     "name": "#%%\n"
    }
   },
   "outputs": [],
   "source": [
    "df_pos = pd.DataFrame(data=train_pos.tolist(), columns=['rid', 'cid', 'value'])\n",
    "df_neg = pd.DataFrame(data=train_neg.tolist(), columns=['rid', 'cid', 'value'])\n",
    "\n",
    "idx2val = graph_dataset.idx2val\n",
    "full_dataset = graph_dataset.df_orig"
   ]
  },
  {
   "cell_type": "code",
   "execution_count": 20,
   "metadata": {
    "collapsed": false,
    "jupyter": {
     "outputs_hidden": false
    },
    "pycharm": {
     "name": "#%%\n"
    }
   },
   "outputs": [],
   "source": [
    "df_pos['value'] = df_pos['value'].apply(lambda x: idx2val[x])\n",
    "df_neg['value'] = df_neg['value'].apply(lambda x: idx2val[x])"
   ]
  },
  {
   "cell_type": "code",
   "execution_count": 21,
   "metadata": {
    "collapsed": false,
    "jupyter": {
     "outputs_hidden": false
    },
    "pycharm": {
     "name": "#%%\n"
    }
   },
   "outputs": [
    {
     "name": "stdout",
     "output_type": "stream",
     "text": [
      "value\n",
      "new_york           228\n",
      "american           152\n",
      "san_francisco      127\n",
      "atlanta            107\n",
      "italian             98\n",
      "                  ... \n",
      "320_hayes_st         1\n",
      "321                  1\n",
      "321_w_46th_st        1\n",
      "322                  1\n",
      "zuni_cafe_grill      1\n",
      "Length: 3281, dtype: int64\n",
      "value\n",
      "new_york           224\n",
      "american           152\n",
      "san_francisco      132\n",
      "atlanta            104\n",
      "italian             98\n",
      "                  ... \n",
      "320_hayes_st         1\n",
      "321                  1\n",
      "321_w_46th_st        1\n",
      "322                  1\n",
      "zuni_cafe_grill      1\n",
      "Length: 3282, dtype: int64\n"
     ]
    }
   ],
   "source": [
    "print(df_pos.value_counts('value'))\n",
    "print(df_neg.value_counts('value'))"
   ]
  },
  {
   "cell_type": "code",
   "execution_count": 22,
   "metadata": {
    "collapsed": false,
    "jupyter": {
     "outputs_hidden": false
    },
    "pycharm": {
     "name": "#%%\n"
    }
   },
   "outputs": [],
   "source": [
    "pos_counts = df_pos.value_counts('value')\n",
    "neg_counts = df_neg.value_counts('value').drop('nan')"
   ]
  },
  {
   "cell_type": "code",
   "execution_count": 23,
   "metadata": {
    "collapsed": false,
    "jupyter": {
     "outputs_hidden": false
    },
    "pycharm": {
     "name": "#%%\n"
    }
   },
   "outputs": [
    {
     "name": "stderr",
     "output_type": "stream",
     "text": [
      "<ipython-input-23-30cb00f76641>:2: DeprecationWarning: The default dtype for empty Series will be 'object' instead of 'float64' in a future version. Specify a dtype explicitly to silence this warning.\n",
      "  ms = pd.Series([0]*len(missing_values), index=missing_values)\n"
     ]
    }
   ],
   "source": [
    "missing_values = [x for x in pos_counts.index if x not in neg_counts.index]\n",
    "ms = pd.Series([0]*len(missing_values), index=missing_values)\n",
    "neg_counts = neg_counts.append(ms)"
   ]
  },
  {
   "cell_type": "code",
   "execution_count": 24,
   "metadata": {
    "collapsed": false,
    "jupyter": {
     "outputs_hidden": false
    },
    "pycharm": {
     "name": "#%%\n"
    }
   },
   "outputs": [
    {
     "data": {
      "text/plain": [
       "Text(0, 0.5, 'neg')"
      ]
     },
     "execution_count": 24,
     "metadata": {},
     "output_type": "execute_result"
    },
    {
     "data": {
      "image/png": "[encoded data removed]",
      "text/plain": [
       "<Figure size 432x288 with 1 Axes>"
      ]
     },
     "metadata": {
      "needs_background": "light"
     },
     "output_type": "display_data"
    }
   ],
   "source": [
    "import matplotlib.pyplot as plt\n",
    "\n",
    "plt.scatter(pos_counts.sort_index(), neg_counts.sort_index())\n",
    "plt.xlabel('pos')\n",
    "plt.ylabel('neg')"
   ]
  },
  {
   "cell_type": "code",
   "execution_count": 25,
   "metadata": {
    "collapsed": false,
    "jupyter": {
     "outputs_hidden": false
    },
    "pycharm": {
     "name": "#%%\n"
    }
   },
   "outputs": [
    {
     "data": {
      "text/plain": [
       "value\n",
       "new_york         228\n",
       "american         152\n",
       "san_francisco    127\n",
       "atlanta          107\n",
       "dtype: int64"
      ]
     },
     "execution_count": 25,
     "metadata": {},
     "output_type": "execute_result"
    }
   ],
   "source": [
    "freq_pos = pos_counts[pos_counts>100]\n",
    "freq_pos"
   ]
  },
  {
   "cell_type": "code",
   "execution_count": 13,
   "metadata": {
    "collapsed": false,
    "jupyter": {
     "outputs_hidden": false
    },
    "pycharm": {
     "name": "#%%\n"
    }
   },
   "outputs": [
    {
     "data": {
      "text/plain": [
       "value\n",
       "new_york         218\n",
       "american         152\n",
       "san_francisco    129\n",
       "atlanta          110\n",
       "dtype: int64"
      ]
     },
     "execution_count": 13,
     "metadata": {},
     "output_type": "execute_result"
    }
   ],
   "source": [
    "neg_counts.loc[freq_pos.index]\n"
   ]
  },
  {
   "cell_type": "code",
   "execution_count": 26,
   "metadata": {
    "collapsed": false,
    "jupyter": {
     "outputs_hidden": false
    },
    "pycharm": {
     "name": "#%%\n"
    }
   },
   "outputs": [],
   "source": [
    "df_adult = pd.read_csv('data/adult_nonulls.csv')\n",
    "df_adult.sample(frac=0.1).to_csv('data/adult_nonulls_sample10.csv', index=False)"
   ]
  },
  {
   "cell_type": "code",
   "execution_count": null,
   "metadata": {
    "collapsed": false,
    "jupyter": {
     "outputs_hidden": false
    },
    "pycharm": {
     "name": "#%%\n"
    }
   },
   "outputs": [],
   "source": []
  }
 ],
 "metadata": {
  "kernelspec": {
   "display_name": "PyCharm (GRIMP)",
   "language": "python",
   "name": "pycharm-2c0b046e"
  },
  "language_info": {
   "codemirror_mode": {
    "name": "ipython",
    "version": 3
   },
   "file_extension": ".py",
   "mimetype": "text/x-python",
   "name": "python",
   "nbconvert_exporter": "python",
   "pygments_lexer": "ipython3",
   "version": "3.9.4"
  }
 },
 "nbformat": 4,
 "nbformat_minor": 4
}
