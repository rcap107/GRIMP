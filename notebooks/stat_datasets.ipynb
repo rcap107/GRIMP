{
 "cells": [
  {
   "cell_type": "markdown",
   "metadata": {
    "pycharm": {
     "name": "#%% md\n"
    }
   },
   "source": [
    "This notebook is used to study a given input dataset, its dirty variant and the resulting imputed version."
   ]
  },
  {
   "cell_type": "code",
   "execution_count": 7,
   "metadata": {
    "collapsed": false,
    "jupyter": {
     "outputs_hidden": false
    },
    "pycharm": {
     "name": "#%%\n"
    }
   },
   "outputs": [
    {
     "data": {
      "text/plain": [
       "<module 'utils_stats' from '/home/spoutnik23/PycharmProjects/GRIMP/utils_stats.py'>"
      ]
     },
     "execution_count": 7,
     "metadata": {},
     "output_type": "execute_result"
    }
   ],
   "source": [
    "import pandas as pd\n",
    "import numpy as np\n",
    "import matplotlib.pyplot as plt\n",
    "import seaborn as sns\n",
    "from collections import Counter\n",
    "import os.path as osp\n",
    "from scipy.stats import entropy\n",
    "\n",
    "import utils_stats as utils\n",
    "\n",
    "from importlib import reload\n",
    "reload(utils)"
   ]
  },
  {
   "cell_type": "code",
   "execution_count": 47,
   "metadata": {
    "collapsed": false,
    "jupyter": {
     "outputs_hidden": false
    },
    "pycharm": {
     "name": "#%%\n"
    }
   },
   "outputs": [
    {
     "data": {
      "text/html": [
       "<div>\n",
       "<style scoped>\n",
       "    .dataframe tbody tr th:only-of-type {\n",
       "        vertical-align: middle;\n",
       "    }\n",
       "\n",
       "    .dataframe tbody tr th {\n",
       "        vertical-align: top;\n",
       "    }\n",
       "\n",
       "    .dataframe thead th {\n",
       "        text-align: right;\n",
       "    }\n",
       "</style>\n",
       "<table border=\"1\" class=\"dataframe\">\n",
       "  <thead>\n",
       "    <tr style=\"text-align: right;\">\n",
       "      <th></th>\n",
       "      <th>actor_1</th>\n",
       "      <th>actor_2</th>\n",
       "      <th>actor_3</th>\n",
       "      <th>color</th>\n",
       "      <th>content_rating</th>\n",
       "      <th>director</th>\n",
       "      <th>genres</th>\n",
       "      <th>original_language</th>\n",
       "      <th>production_companies</th>\n",
       "      <th>production_countries</th>\n",
       "      <th>status</th>\n",
       "      <th>title</th>\n",
       "    </tr>\n",
       "  </thead>\n",
       "  <tbody>\n",
       "    <tr>\n",
       "      <th>count</th>\n",
       "      <td>47488</td>\n",
       "      <td>46166</td>\n",
       "      <td>45256</td>\n",
       "      <td>4529</td>\n",
       "      <td>4529</td>\n",
       "      <td>49027</td>\n",
       "      <td>42963</td>\n",
       "      <td>49862</td>\n",
       "      <td>33522</td>\n",
       "      <td>43666</td>\n",
       "      <td>45266</td>\n",
       "      <td>49840</td>\n",
       "    </tr>\n",
       "    <tr>\n",
       "      <th>unique</th>\n",
       "      <td>19000</td>\n",
       "      <td>23411</td>\n",
       "      <td>25890</td>\n",
       "      <td>2</td>\n",
       "      <td>15</td>\n",
       "      <td>17688</td>\n",
       "      <td>20</td>\n",
       "      <td>126</td>\n",
       "      <td>10518</td>\n",
       "      <td>199</td>\n",
       "      <td>6</td>\n",
       "      <td>42210</td>\n",
       "    </tr>\n",
       "    <tr>\n",
       "      <th>top</th>\n",
       "      <td>robert_de_niro</td>\n",
       "      <td>morgan_freeman</td>\n",
       "      <td>donald_pleasence</td>\n",
       "      <td>color</td>\n",
       "      <td>r</td>\n",
       "      <td>woody_allen</td>\n",
       "      <td>drama</td>\n",
       "      <td>en</td>\n",
       "      <td>paramount_pictures</td>\n",
       "      <td>us</td>\n",
       "      <td>released</td>\n",
       "      <td>cinderella</td>\n",
       "    </tr>\n",
       "    <tr>\n",
       "      <th>freq</th>\n",
       "      <td>104</td>\n",
       "      <td>39</td>\n",
       "      <td>25</td>\n",
       "      <td>4344</td>\n",
       "      <td>2060</td>\n",
       "      <td>71</td>\n",
       "      <td>11948</td>\n",
       "      <td>32185</td>\n",
       "      <td>996</td>\n",
       "      <td>18410</td>\n",
       "      <td>44907</td>\n",
       "      <td>12</td>\n",
       "    </tr>\n",
       "  </tbody>\n",
       "</table>\n",
       "</div>"
      ],
      "text/plain": [
       "               actor_1         actor_2           actor_3  color  \\\n",
       "count            47488           46166             45256   4529   \n",
       "unique           19000           23411             25890      2   \n",
       "top     robert_de_niro  morgan_freeman  donald_pleasence  color   \n",
       "freq               104              39                25   4344   \n",
       "\n",
       "       content_rating     director genres original_language  \\\n",
       "count            4529        49027  42963             49862   \n",
       "unique             15        17688     20               126   \n",
       "top                 r  woody_allen  drama                en   \n",
       "freq             2060           71  11948             32185   \n",
       "\n",
       "       production_companies production_countries    status       title  \n",
       "count                 33522                43666     45266       49840  \n",
       "unique                10518                  199         6       42210  \n",
       "top      paramount_pictures                   us  released  cinderella  \n",
       "freq                    996                18410     44907          12  "
      ]
     },
     "execution_count": 47,
     "metadata": {},
     "output_type": "execute_result"
    }
   ],
   "source": [
    "clean_dataset_path = 'data/embdi-study/imdb_movielens-master.csv'\n",
    "df_orig = pd.read_csv(clean_dataset_path)\n",
    "df_orig.describe(include='object')"
   ]
  },
  {
   "cell_type": "code",
   "execution_count": 47,
   "metadata": {
    "collapsed": false,
    "pycharm": {
     "name": "#%%\n"
    }
   },
   "outputs": [],
   "source": []
  },
  {
   "cell_type": "markdown",
   "metadata": {
    "pycharm": {
     "name": "#%% md\n"
    }
   },
   "source": [
    "# Clean dataframe"
   ]
  },
  {
   "cell_type": "markdown",
   "metadata": {
    "pycharm": {
     "name": "#%% md\n"
    }
   },
   "source": [
    "### Data types\n",
    "Numeric columns are problematic to impute, especially if they contain real numbers (rather than simple integers).\n",
    "Here we are looking for those columns, to know what to impute and how."
   ]
  },
  {
   "cell_type": "code",
   "execution_count": 48,
   "metadata": {
    "collapsed": false,
    "jupyter": {
     "outputs_hidden": false
    },
    "pycharm": {
     "name": "#%%\n"
    }
   },
   "outputs": [
    {
     "data": {
      "text/html": [
       "<div>\n",
       "<style scoped>\n",
       "    .dataframe tbody tr th:only-of-type {\n",
       "        vertical-align: middle;\n",
       "    }\n",
       "\n",
       "    .dataframe tbody tr th {\n",
       "        vertical-align: top;\n",
       "    }\n",
       "\n",
       "    .dataframe thead th {\n",
       "        text-align: right;\n",
       "    }\n",
       "</style>\n",
       "<table border=\"1\" class=\"dataframe\">\n",
       "  <thead>\n",
       "    <tr style=\"text-align: right;\">\n",
       "      <th></th>\n",
       "      <th>release_date_rounded</th>\n",
       "      <th>vote_average</th>\n",
       "      <th>year</th>\n",
       "    </tr>\n",
       "  </thead>\n",
       "  <tbody>\n",
       "    <tr>\n",
       "      <th>0</th>\n",
       "      <td>NaN</td>\n",
       "      <td>8.0</td>\n",
       "      <td>2009.0</td>\n",
       "    </tr>\n",
       "    <tr>\n",
       "      <th>1</th>\n",
       "      <td>NaN</td>\n",
       "      <td>7.0</td>\n",
       "      <td>2007.0</td>\n",
       "    </tr>\n",
       "    <tr>\n",
       "      <th>2</th>\n",
       "      <td>NaN</td>\n",
       "      <td>7.0</td>\n",
       "      <td>2015.0</td>\n",
       "    </tr>\n",
       "    <tr>\n",
       "      <th>3</th>\n",
       "      <td>NaN</td>\n",
       "      <td>8.0</td>\n",
       "      <td>2012.0</td>\n",
       "    </tr>\n",
       "    <tr>\n",
       "      <th>4</th>\n",
       "      <td>NaN</td>\n",
       "      <td>7.0</td>\n",
       "      <td>2012.0</td>\n",
       "    </tr>\n",
       "    <tr>\n",
       "      <th>...</th>\n",
       "      <td>...</td>\n",
       "      <td>...</td>\n",
       "      <td>...</td>\n",
       "    </tr>\n",
       "    <tr>\n",
       "      <th>49870</th>\n",
       "      <td>199105.0</td>\n",
       "      <td>6.0</td>\n",
       "      <td>1991.0</td>\n",
       "    </tr>\n",
       "    <tr>\n",
       "      <th>49871</th>\n",
       "      <td>201111.0</td>\n",
       "      <td>9.0</td>\n",
       "      <td>2011.0</td>\n",
       "    </tr>\n",
       "    <tr>\n",
       "      <th>49872</th>\n",
       "      <td>200308.0</td>\n",
       "      <td>4.0</td>\n",
       "      <td>2003.0</td>\n",
       "    </tr>\n",
       "    <tr>\n",
       "      <th>49873</th>\n",
       "      <td>191710.0</td>\n",
       "      <td>0.0</td>\n",
       "      <td>1917.0</td>\n",
       "    </tr>\n",
       "    <tr>\n",
       "      <th>49874</th>\n",
       "      <td>201706.0</td>\n",
       "      <td>0.0</td>\n",
       "      <td>2017.0</td>\n",
       "    </tr>\n",
       "  </tbody>\n",
       "</table>\n",
       "<p>49875 rows × 3 columns</p>\n",
       "</div>"
      ],
      "text/plain": [
       "       release_date_rounded  vote_average    year\n",
       "0                       NaN           8.0  2009.0\n",
       "1                       NaN           7.0  2007.0\n",
       "2                       NaN           7.0  2015.0\n",
       "3                       NaN           8.0  2012.0\n",
       "4                       NaN           7.0  2012.0\n",
       "...                     ...           ...     ...\n",
       "49870              199105.0           6.0  1991.0\n",
       "49871              201111.0           9.0  2011.0\n",
       "49872              200308.0           4.0  2003.0\n",
       "49873              191710.0           0.0  1917.0\n",
       "49874              201706.0           0.0  2017.0\n",
       "\n",
       "[49875 rows x 3 columns]"
      ]
     },
     "execution_count": 48,
     "metadata": {},
     "output_type": "execute_result"
    }
   ],
   "source": [
    "df_orig.select_dtypes(include='number')"
   ]
  },
  {
   "cell_type": "code",
   "execution_count": 49,
   "metadata": {
    "collapsed": false,
    "jupyter": {
     "outputs_hidden": false
    },
    "pycharm": {
     "name": "#%%\n"
    }
   },
   "outputs": [
    {
     "data": {
      "text/plain": [
       "actor_1                 string\n",
       "actor_2                 string\n",
       "actor_3                 string\n",
       "color                   string\n",
       "content_rating          string\n",
       "director                string\n",
       "genres                  string\n",
       "original_language       string\n",
       "production_companies    string\n",
       "production_countries    string\n",
       "release_date_rounded     Int64\n",
       "status                  string\n",
       "title                   string\n",
       "vote_average             Int64\n",
       "year                     Int64\n",
       "dtype: object"
      ]
     },
     "execution_count": 49,
     "metadata": {},
     "output_type": "execute_result"
    }
   ],
   "source": [
    "df_orig = df_orig.convert_dtypes()\n",
    "df_orig.dtypes"
   ]
  },
  {
   "cell_type": "code",
   "execution_count": 32,
   "metadata": {
    "collapsed": false,
    "jupyter": {
     "outputs_hidden": false
    },
    "pycharm": {
     "name": "#%%\n"
    }
   },
   "outputs": [],
   "source": [
    "bname = osp.basename(clean_dataset_path)\n",
    "base, ext = osp.splitext(clean_dataset_path)\n",
    "fname = base + '_dtypes.txt'\n",
    "with open(fname, 'w') as fp:\n",
    "    fp.write(bname + '\\n')\n",
    "    for idx, val in df_orig.dtypes.iteritems():\n",
    "        s = f'{idx}\\t{val}\\n'\n",
    "        fp.write(s)"
   ]
  },
  {
   "cell_type": "markdown",
   "metadata": {
    "pycharm": {
     "name": "#%% md\n"
    }
   },
   "source": [
    "### Frequency of values\n",
    "Here we are measuring the average frequency of each unique value in the dataset, as well as the distribution of values\n",
    "by quantiles.\n",
    "\n",
    "Knowing the distribution in quantiles would give us an idea of which values to drop from the graph because they're too\n",
    "rare to contribute to the imputation, and might instead add noise to the training."
   ]
  },
  {
   "cell_type": "code",
   "execution_count": 50,
   "metadata": {
    "collapsed": false,
    "jupyter": {
     "outputs_hidden": false
    },
    "pycharm": {
     "name": "#%%\n"
    }
   },
   "outputs": [
    {
     "name": "stdout",
     "output_type": "stream",
     "text": [
      "actor_1             19000      2.62\n",
      "actor_2             23411      2.13\n",
      "actor_3             25890      1.93\n",
      "color                   2  24937.50\n",
      "content_rating         15   3325.00\n",
      "director            17688      2.82\n",
      "genres                 20   2493.75\n",
      "original_language     126    395.83\n",
      "production_companies10518      4.74\n",
      "production_countries  199    250.63\n",
      "release_date_rounded 1350     36.94\n",
      "status                  6   8312.50\n",
      "title               42210      1.18\n",
      "vote_average           11   4534.09\n",
      "year                  135    369.44\n",
      "Measuring overall frequency of values\n",
      "20% quantile: 1.0\n",
      "50% quantile: 1.0\n",
      "80% quantile: 2.0\n",
      "90% quantile: 4.0\n",
      "Average redundancy over the full dataset: 6.30\n",
      "actor_1: 2.50\n",
      "actor_2: 1.97\n",
      "actor_3: 1.75\n",
      "color: 2264.50\n",
      "content_rating: 301.93\n",
      "director: 2.77\n",
      "genres: 2148.15\n",
      "original_language: 395.73\n",
      "production_companies: 3.19\n",
      "production_countries: 219.43\n",
      "release_date_rounded: 33.59\n",
      "status: 7544.33\n",
      "title: 1.18\n",
      "vote_average: 4534.09\n",
      "year: 369.44\n"
     ]
    }
   ],
   "source": [
    "col_counts = dict()\n",
    "for col in df_orig.columns:\n",
    "    col_counts[col] = df_orig[col].value_counts()\n",
    "    k,v = col, col_counts[col]\n",
    "    print(f'{k:<20}{len(v):>5}{len(df_orig)/len(v):>10.2f}')\n",
    "\n",
    "print('Measuring overall frequency of values')\n",
    "counts = Counter(df_orig.values.ravel())\n",
    "cc = pd.Series(counts)\n",
    "print(f'20% quantile: {cc.quantile(.2)}')\n",
    "print(f'50% quantile: {cc.quantile(.5)}')\n",
    "print(f'80% quantile: {cc.quantile(.8)}')\n",
    "print(f'90% quantile: {cc.quantile(.9)}')\n",
    "\n",
    "avg_redundancy = cc.mean()\n",
    "print(f'Average redundancy over the full dataset: {avg_redundancy:.2f}')\n",
    "\n",
    "avg_lt5 = []\n",
    "for col in col_counts:\n",
    "    avg_red = col_counts[col].mean()\n",
    "    if avg_red < 5:\n",
    "        avg_lt5.append(col)\n",
    "    print(f'{col}: {avg_red:.2f}')"
   ]
  },
  {
   "cell_type": "code",
   "execution_count": 51,
   "metadata": {
    "collapsed": false,
    "pycharm": {
     "name": "#%%\n"
    }
   },
   "outputs": [],
   "source": [
    "col_counts_norm = dict()\n",
    "for col in df_orig.columns:\n",
    "    col_counts_norm[col] = df_orig[col].value_counts(normalize=True, sort=False)\n",
    "    k,v = col, col_counts_norm[col]"
   ]
  },
  {
   "cell_type": "code",
   "execution_count": 52,
   "metadata": {
    "collapsed": false,
    "pycharm": {
     "name": "#%%\n"
    }
   },
   "outputs": [],
   "source": [
    "def geo_mean(iterable):\n",
    "    a = np.array(iterable)\n",
    "    return a.prod()**(1.0/len(a))"
   ]
  },
  {
   "cell_type": "code",
   "execution_count": 57,
   "metadata": {
    "collapsed": false,
    "pycharm": {
     "name": "#%%\n"
    }
   },
   "outputs": [
    {
     "name": "stdout",
     "output_type": "stream",
     "text": [
      "Column name         :  Entropy Variance  Avg red Distinct\n",
      "actor_1             :  0.00048     4.63     2.50    19000\n",
      "actor_2             :  0.00041     2.37     1.97    23411\n",
      "actor_3             :  0.00038     1.76     1.75    25890\n",
      "color               :  0.08531  2079.50  2264.50        2\n",
      "content_rating      :  0.09108   597.15   301.93       15\n",
      "director            :  0.00052     4.29     2.77    17688\n",
      "genres              :  0.11625  2996.52  2148.15       20\n",
      "original_language   :  0.01322  2885.10   395.73      126\n",
      "production_companies:  0.00074    20.73     3.19    10518\n",
      "production_countries:  0.01311  1364.19   219.43      199\n",
      "release_date_rounded:  0.00491    42.02    33.59     1350\n",
      "status              :  0.00894 16709.28  7544.33        6\n",
      "title               :  0.00025     0.50     1.18    42210\n",
      "vote_average        :  0.15994  5321.04  4534.09       11\n",
      "year                :  0.03082   512.41   369.44      135\n"
     ]
    }
   ],
   "source": [
    "print(f'{\"Column name\":<20}: {\"Entropy\":>8} {\"Variance\":>8} {\"Avg red\":>8} {\"Distinct\":>8}')\n",
    "for col in col_counts_norm:\n",
    "    col_entropy = entropy(list(col_counts_norm[col]))/len(col_counts[col])\n",
    "    col_variance = np.std(col_counts[col])\n",
    "    avg_red = col_counts[col].mean()\n",
    "    gm = geo_mean([col_entropy, avg_red])\n",
    "    print(f'{col:<20}: {col_entropy:8.5f} {col_variance:>8.2f} {avg_red:>8.2f} {len(col_counts[col]):>8}')"
   ]
  },
  {
   "cell_type": "code",
   "execution_count": 46,
   "metadata": {
    "collapsed": false,
    "pycharm": {
     "name": "#%%\n"
    }
   },
   "outputs": [],
   "source": []
  },
  {
   "cell_type": "code",
   "execution_count": 34,
   "metadata": {
    "collapsed": false,
    "jupyter": {
     "outputs_hidden": false
    },
    "pycharm": {
     "name": "#%%\n"
    }
   },
   "outputs": [
    {
     "data": {
      "image/png": "[encoded data removed]",
      "text/plain": [
       "<Figure size 720x1440 with 10 Axes>"
      ]
     },
     "metadata": {
      "needs_background": "light"
     },
     "output_type": "display_data"
    }
   ],
   "source": [
    "# Saving only columns with < 50 distinct values for clarity.\n",
    "plot_cols = [col for col in df_orig.columns if len(col_counts[col]) < 20]\n",
    "_t = len(plot_cols)//2+len(plot_cols)%2\n",
    "fig, axs = plt.subplots(ncols=2, nrows=_t, figsize=(10,20))\n",
    "for idx, col in enumerate(plot_cols):\n",
    "    x = idx%_t\n",
    "    y = idx//_t\n",
    "    axs[x,y].bar(col_counts[col].index, col_counts[col]/len(df_orig))\n",
    "    # _ = axs[x,y].xticks(rotation='vertical',)\n",
    "    axs[x,y].tick_params(axis='x', rotation=45)\n",
    "    plt.title(col)\n",
    "fig.tight_layout()"
   ]
  },
  {
   "cell_type": "code",
   "execution_count": 7,
   "metadata": {
    "collapsed": false,
    "jupyter": {
     "outputs_hidden": false
    },
    "pycharm": {
     "name": "#%%\n"
    }
   },
   "outputs": [
    {
     "name": "stdout",
     "output_type": "stream",
     "text": [
      "id\n",
      "90.0% Quantile: 1\n",
      "Series([], Name: id, dtype: Int64)\n",
      "0.0\n",
      "\n",
      "bike_name\n",
      "90.0% Quantile: 49\n",
      "bajaj_pulsar_150cc_dtsi                   527\n",
      "bajaj_pulsar_180cc_dtsi                   177\n",
      "bajaj_pulsar_220f_dtsi                    144\n",
      "honda_unicorn_alloy                       143\n",
      "yamaha_yzf_r15_version_2.0                141\n",
      "hero_honda_karizma_r                      110\n",
      "bajaj_avenger_220                         108\n",
      "bajaj_pulsar_200_ns                       100\n",
      "tvs_apache_rtr_160                         99\n",
      "hero_honda_cbz_xtreme_self_start           95\n",
      "yamaha_fz16                                92\n",
      "bajaj_pulsar_135                           89\n",
      "royal_enfield_thunderbird_350              82\n",
      "hero_honda_passion_pro                     79\n",
      "royal_enfield_bullet_350                   76\n",
      "hero_honda_passion_plus                    72\n",
      "bajaj_discover_100                         71\n",
      "honda_stunner_cbf_self_disc_alloy          71\n",
      "yamaha_fz_s                                64\n",
      "yamaha_rx_135_std                          62\n",
      "royal_enfield_bullet_electra_twinspark     59\n",
      "yamaha_fazer_sport                         59\n",
      "hero_honda_splendor_plus                   55\n",
      "royal_enfield_classic_350                  53\n",
      "hero_honda_karizma_zmr_pgm_fi              52\n",
      "royal_enfield_bullet_350_twinspark         50\n",
      "hero_honda_hunk                            50\n",
      "Name: bike_name, dtype: Int64\n",
      "0.5808608441287088\n",
      "\n",
      "city_posted\n",
      "90.0% Quantile: 1795\n",
      "delhi    1822\n",
      "Name: city_posted, dtype: Int64\n",
      "0.38069368992895947\n",
      "\n",
      "km_driven\n",
      "90.0% Quantile: 19\n",
      "40000     224\n",
      "30000     219\n",
      "50000     201\n",
      "35000     151\n",
      "20000     145\n",
      "60000     139\n",
      "25000     128\n",
      "15000     100\n",
      "45000      94\n",
      "70000      94\n",
      "18000      84\n",
      "22000      76\n",
      "32000      74\n",
      "28000      73\n",
      "26000      70\n",
      "10000      70\n",
      "13000      63\n",
      "17000      61\n",
      "12000      60\n",
      "24000      59\n",
      "21000      58\n",
      "11000      54\n",
      "100000     52\n",
      "27000      52\n",
      "7000       51\n",
      "36000      50\n",
      "16000      49\n",
      "23000      48\n",
      "14000      48\n",
      "80000      48\n",
      "31000      47\n",
      "33000      47\n",
      "55000      47\n",
      "19000      44\n",
      "29000      43\n",
      "8000       42\n",
      "65000      40\n",
      "48000      40\n",
      "5000       38\n",
      "38000      37\n",
      "42000      34\n",
      "34000      34\n",
      "6000       34\n",
      "9000       34\n",
      "37000      34\n",
      "43000      29\n",
      "4000       27\n",
      "52000      26\n",
      "2000       24\n",
      "46000      23\n",
      "41000      22\n",
      "44000      22\n",
      "39000      21\n",
      "6500       20\n",
      "90000      20\n",
      "3000       20\n",
      "Name: km_driven, dtype: Int64\n",
      "0.7404931048892603\n",
      "\n",
      "color\n",
      "90.0% Quantile: 158\n",
      "black     2644\n",
      "red        822\n",
      "blue       384\n",
      "silver     227\n",
      "white      185\n",
      "Name: color, dtype: Int64\n",
      "0.890513999164229\n",
      "\n",
      "fuel_type\n",
      "90.0% Quantile: 3123\n",
      "petrol    4230\n",
      "Name: fuel_type, dtype: Int64\n",
      "0.8838278311742582\n",
      "\n",
      "price\n",
      "90.0% Quantile: 47\n",
      "35000     121\n",
      "25000     115\n",
      "40000     104\n",
      "34999     100\n",
      "30000      96\n",
      "29999      90\n",
      "39999      85\n",
      "50000      85\n",
      "24999      83\n",
      "45000      80\n",
      "100000     79\n",
      "24000      79\n",
      "34000      74\n",
      "29000      74\n",
      "28000      72\n",
      "44999      68\n",
      "60000      67\n",
      "120000     66\n",
      "38000      64\n",
      "22000      62\n",
      "20000      60\n",
      "39000      60\n",
      "19999      60\n",
      "19000      60\n",
      "110000     55\n",
      "32000      53\n",
      "27000      52\n",
      "65000      50\n",
      "55000      48\n",
      "59999      48\n",
      "44000      47\n",
      "Name: price, dtype: Int64\n",
      "0.4715837860426243\n",
      "\n",
      "model_year\n",
      "90.0% Quantile: 459\n",
      "2011    552\n",
      "2013    544\n",
      "2012    541\n",
      "2014    459\n",
      "Name: model_year, dtype: Int64\n",
      "0.437944003343084\n",
      "\n",
      "owner_type\n",
      "90.0% Quantile: 2283\n",
      "firstowner    3338\n",
      "Name: owner_type, dtype: Int64\n",
      "0.6974508984538237\n",
      "\n"
     ]
    }
   ],
   "source": [
    "qfrac = 0.9\n",
    "frequent_values = dict()\n",
    "rare_values = dict()\n",
    "for col in col_counts:\n",
    "    print(col)\n",
    "    vc = col_counts[col]\n",
    "    up_qle = vc.quantile(qfrac)\n",
    "    low_qle = vc.quantile(1-qfrac)\n",
    "\n",
    "    frequent_values[col] = vc[vc>up_qle].index.tolist()\n",
    "    rare_values[col] = vc[vc<low_qle].index.tolist()\n",
    "\n",
    "    print(f'{qfrac*100}% Quantile: {up_qle:.0f}')\n",
    "    print(vc[vc>up_qle])\n",
    "    print(sum(vc[vc>up_qle])/sum(vc))\n",
    "    print()"
   ]
  },
  {
   "cell_type": "code",
   "execution_count": 41,
   "metadata": {
    "collapsed": false,
    "jupyter": {
     "outputs_hidden": false
    },
    "pycharm": {
     "name": "#%%\n"
    }
   },
   "outputs": [
    {
     "data": {
      "text/plain": [
       "3.711031038569636e-07"
      ]
     },
     "execution_count": 41,
     "metadata": {},
     "output_type": "execute_result"
    }
   ],
   "source": [
    "# pd.pivot_table(df_orig, index='A1', columns='A2', aggfunc='count')\n",
    "contingency = pd.crosstab(df_orig['A1'], df_orig['A2'])\n",
    "from scipy.stats import chi2_contingency\n",
    "c, p, dof, exp = chi2_contingency(contingency.transpose())\n",
    "p"
   ]
  },
  {
   "cell_type": "code",
   "execution_count": 43,
   "metadata": {
    "collapsed": false,
    "jupyter": {
     "outputs_hidden": false
    },
    "pycharm": {
     "name": "#%%\n"
    }
   },
   "outputs": [
    {
     "data": {
      "text/html": [
       "<div>\n",
       "<style scoped>\n",
       "    .dataframe tbody tr th:only-of-type {\n",
       "        vertical-align: middle;\n",
       "    }\n",
       "\n",
       "    .dataframe tbody tr th {\n",
       "        vertical-align: top;\n",
       "    }\n",
       "\n",
       "    .dataframe thead th {\n",
       "        text-align: right;\n",
       "    }\n",
       "</style>\n",
       "<table border=\"1\" class=\"dataframe\">\n",
       "  <thead>\n",
       "    <tr style=\"text-align: right;\">\n",
       "      <th></th>\n",
       "      <th>A1</th>\n",
       "      <th>A2</th>\n",
       "      <th>A3</th>\n",
       "      <th>A4</th>\n",
       "      <th>A5</th>\n",
       "      <th>A6</th>\n",
       "      <th>A7</th>\n",
       "      <th>A8</th>\n",
       "      <th>A9</th>\n",
       "      <th>A10</th>\n",
       "    </tr>\n",
       "  </thead>\n",
       "  <tbody>\n",
       "    <tr>\n",
       "      <th>A1</th>\n",
       "      <td>NaN</td>\n",
       "      <td>NaN</td>\n",
       "      <td>NaN</td>\n",
       "      <td>NaN</td>\n",
       "      <td>NaN</td>\n",
       "      <td>NaN</td>\n",
       "      <td>NaN</td>\n",
       "      <td>NaN</td>\n",
       "      <td>NaN</td>\n",
       "      <td>NaN</td>\n",
       "    </tr>\n",
       "    <tr>\n",
       "      <th>A2</th>\n",
       "      <td>NaN</td>\n",
       "      <td>NaN</td>\n",
       "      <td>NaN</td>\n",
       "      <td>NaN</td>\n",
       "      <td>NaN</td>\n",
       "      <td>NaN</td>\n",
       "      <td>NaN</td>\n",
       "      <td>NaN</td>\n",
       "      <td>NaN</td>\n",
       "      <td>NaN</td>\n",
       "    </tr>\n",
       "    <tr>\n",
       "      <th>A3</th>\n",
       "      <td>NaN</td>\n",
       "      <td>NaN</td>\n",
       "      <td>NaN</td>\n",
       "      <td>NaN</td>\n",
       "      <td>NaN</td>\n",
       "      <td>NaN</td>\n",
       "      <td>NaN</td>\n",
       "      <td>NaN</td>\n",
       "      <td>NaN</td>\n",
       "      <td>NaN</td>\n",
       "    </tr>\n",
       "    <tr>\n",
       "      <th>A4</th>\n",
       "      <td>NaN</td>\n",
       "      <td>NaN</td>\n",
       "      <td>NaN</td>\n",
       "      <td>NaN</td>\n",
       "      <td>NaN</td>\n",
       "      <td>NaN</td>\n",
       "      <td>NaN</td>\n",
       "      <td>NaN</td>\n",
       "      <td>NaN</td>\n",
       "      <td>NaN</td>\n",
       "    </tr>\n",
       "    <tr>\n",
       "      <th>A5</th>\n",
       "      <td>NaN</td>\n",
       "      <td>NaN</td>\n",
       "      <td>NaN</td>\n",
       "      <td>NaN</td>\n",
       "      <td>NaN</td>\n",
       "      <td>NaN</td>\n",
       "      <td>NaN</td>\n",
       "      <td>NaN</td>\n",
       "      <td>NaN</td>\n",
       "      <td>NaN</td>\n",
       "    </tr>\n",
       "    <tr>\n",
       "      <th>A6</th>\n",
       "      <td>NaN</td>\n",
       "      <td>NaN</td>\n",
       "      <td>NaN</td>\n",
       "      <td>NaN</td>\n",
       "      <td>NaN</td>\n",
       "      <td>NaN</td>\n",
       "      <td>NaN</td>\n",
       "      <td>NaN</td>\n",
       "      <td>NaN</td>\n",
       "      <td>NaN</td>\n",
       "    </tr>\n",
       "    <tr>\n",
       "      <th>A7</th>\n",
       "      <td>NaN</td>\n",
       "      <td>NaN</td>\n",
       "      <td>NaN</td>\n",
       "      <td>NaN</td>\n",
       "      <td>NaN</td>\n",
       "      <td>NaN</td>\n",
       "      <td>NaN</td>\n",
       "      <td>NaN</td>\n",
       "      <td>NaN</td>\n",
       "      <td>NaN</td>\n",
       "    </tr>\n",
       "    <tr>\n",
       "      <th>A8</th>\n",
       "      <td>NaN</td>\n",
       "      <td>NaN</td>\n",
       "      <td>NaN</td>\n",
       "      <td>NaN</td>\n",
       "      <td>NaN</td>\n",
       "      <td>NaN</td>\n",
       "      <td>NaN</td>\n",
       "      <td>NaN</td>\n",
       "      <td>NaN</td>\n",
       "      <td>NaN</td>\n",
       "    </tr>\n",
       "    <tr>\n",
       "      <th>A9</th>\n",
       "      <td>NaN</td>\n",
       "      <td>NaN</td>\n",
       "      <td>NaN</td>\n",
       "      <td>NaN</td>\n",
       "      <td>NaN</td>\n",
       "      <td>NaN</td>\n",
       "      <td>NaN</td>\n",
       "      <td>NaN</td>\n",
       "      <td>NaN</td>\n",
       "      <td>NaN</td>\n",
       "    </tr>\n",
       "    <tr>\n",
       "      <th>A10</th>\n",
       "      <td>NaN</td>\n",
       "      <td>NaN</td>\n",
       "      <td>NaN</td>\n",
       "      <td>NaN</td>\n",
       "      <td>NaN</td>\n",
       "      <td>NaN</td>\n",
       "      <td>NaN</td>\n",
       "      <td>NaN</td>\n",
       "      <td>NaN</td>\n",
       "      <td>NaN</td>\n",
       "    </tr>\n",
       "  </tbody>\n",
       "</table>\n",
       "</div>"
      ],
      "text/plain": [
       "      A1   A2   A3   A4   A5   A6   A7   A8   A9  A10\n",
       "A1   NaN  NaN  NaN  NaN  NaN  NaN  NaN  NaN  NaN  NaN\n",
       "A2   NaN  NaN  NaN  NaN  NaN  NaN  NaN  NaN  NaN  NaN\n",
       "A3   NaN  NaN  NaN  NaN  NaN  NaN  NaN  NaN  NaN  NaN\n",
       "A4   NaN  NaN  NaN  NaN  NaN  NaN  NaN  NaN  NaN  NaN\n",
       "A5   NaN  NaN  NaN  NaN  NaN  NaN  NaN  NaN  NaN  NaN\n",
       "A6   NaN  NaN  NaN  NaN  NaN  NaN  NaN  NaN  NaN  NaN\n",
       "A7   NaN  NaN  NaN  NaN  NaN  NaN  NaN  NaN  NaN  NaN\n",
       "A8   NaN  NaN  NaN  NaN  NaN  NaN  NaN  NaN  NaN  NaN\n",
       "A9   NaN  NaN  NaN  NaN  NaN  NaN  NaN  NaN  NaN  NaN\n",
       "A10  NaN  NaN  NaN  NaN  NaN  NaN  NaN  NaN  NaN  NaN"
      ]
     },
     "execution_count": 43,
     "metadata": {},
     "output_type": "execute_result"
    }
   ],
   "source": [
    "pd.DataFrame(index=df_orig.columns, columns=df_orig.columns)"
   ]
  },
  {
   "cell_type": "code",
   "execution_count": 22,
   "metadata": {
    "collapsed": false,
    "jupyter": {
     "outputs_hidden": false
    },
    "pycharm": {
     "name": "#%%\n"
    }
   },
   "outputs": [
    {
     "data": {
      "image/png": "[encoded data removed]",
      "text/plain": [
       "<Figure size 360x1440 with 1 Axes>"
      ]
     },
     "metadata": {
      "needs_background": "light"
     },
     "output_type": "display_data"
    }
   ],
   "source": [
    "df_rares = df_orig.copy()\n",
    "for col in df_rares:\n",
    "    df_rares[col] = df_orig[col].isin(rare_values[col])\n",
    "plt.figure(figsize=(5, 20))\n",
    "sns.heatmap(df_rares.values, cbar=False)\n",
    "_ = plt.xticks(ticks=np.arange(len(df_orig.columns)), labels=df_orig.columns, rotation=45)"
   ]
  },
  {
   "cell_type": "code",
   "execution_count": 23,
   "metadata": {
    "collapsed": false,
    "jupyter": {
     "outputs_hidden": false
    },
    "pycharm": {
     "name": "#%%\n"
    }
   },
   "outputs": [
    {
     "name": "stdout",
     "output_type": "stream",
     "text": [
      "Rare values fraction: 14.42%\n"
     ]
    }
   ],
   "source": [
    "rare_count  = 0\n",
    "tot_count = 0\n",
    "for col in rare_values:\n",
    "    rare_count += sum(col_counts[col].loc[rare_values[col]])\n",
    "    tot_count += sum(col_counts[col])\n",
    "print(f'Rare values fraction: {rare_count / tot_count*100:.2f}%')"
   ]
  },
  {
   "cell_type": "markdown",
   "metadata": {
    "pycharm": {
     "name": "#%% md\n"
    }
   },
   "source": [
    "# Dirty dataframe"
   ]
  },
  {
   "cell_type": "code",
   "execution_count": 8,
   "metadata": {
    "collapsed": false,
    "jupyter": {
     "outputs_hidden": false
    },
    "pycharm": {
     "name": "#%%\n"
    }
   },
   "outputs": [],
   "source": [
    "dirty_dataset_path = 'data/new-hard_dirty/bikes-dekho_all_columns_2.csv'\n",
    "df_dirty = pd.read_csv(dirty_dataset_path)"
   ]
  },
  {
   "cell_type": "code",
   "execution_count": 9,
   "metadata": {
    "collapsed": false,
    "jupyter": {
     "outputs_hidden": false
    },
    "pycharm": {
     "name": "#%%\n"
    }
   },
   "outputs": [],
   "source": [
    "# Make sure that the datasets have the same shape\n",
    "assert df_orig.shape == df_dirty.shape"
   ]
  },
  {
   "cell_type": "code",
   "execution_count": 10,
   "metadata": {
    "collapsed": false,
    "jupyter": {
     "outputs_hidden": false
    },
    "pycharm": {
     "name": "#%%\n"
    }
   },
   "outputs": [],
   "source": [
    "nulls = pd.isna(df_dirty)\n",
    "target_columns = df_orig.columns[nulls.sum(axis=0)>0]"
   ]
  },
  {
   "cell_type": "code",
   "execution_count": 20,
   "metadata": {
    "collapsed": false,
    "jupyter": {
     "outputs_hidden": false
    },
    "pycharm": {
     "name": "#%%\n"
    }
   },
   "outputs": [
    {
     "data": {
      "text/plain": [
       "0.020058503969912243"
      ]
     },
     "execution_count": 20,
     "metadata": {},
     "output_type": "execute_result"
    }
   ],
   "source": [
    "pd.isna(df_dirty).sum().sum()/(df_dirty.shape[0]*df_dirty.shape[1])\n",
    "# nulls.sum(axis=1).mean()"
   ]
  },
  {
   "cell_type": "markdown",
   "metadata": {},
   "source": [
    "### Compare with clean"
   ]
  },
  {
   "cell_type": "code",
   "execution_count": 12,
   "metadata": {
    "collapsed": false,
    "jupyter": {
     "outputs_hidden": false
    },
    "pycharm": {
     "name": "#%%\n"
    }
   },
   "outputs": [
    {
     "name": "stdout",
     "output_type": "stream",
     "text": [
      "Unique values by column\n"
     ]
    },
    {
     "data": {
      "text/html": [
       "<div>\n",
       "<style scoped>\n",
       "    .dataframe tbody tr th:only-of-type {\n",
       "        vertical-align: middle;\n",
       "    }\n",
       "\n",
       "    .dataframe tbody tr th {\n",
       "        vertical-align: top;\n",
       "    }\n",
       "\n",
       "    .dataframe thead th {\n",
       "        text-align: right;\n",
       "    }\n",
       "</style>\n",
       "<table border=\"1\" class=\"dataframe\">\n",
       "  <thead>\n",
       "    <tr style=\"text-align: right;\">\n",
       "      <th></th>\n",
       "      <th>clean</th>\n",
       "      <th>dirty</th>\n",
       "      <th>diff</th>\n",
       "    </tr>\n",
       "  </thead>\n",
       "  <tbody>\n",
       "    <tr>\n",
       "      <th>id</th>\n",
       "      <td>4786</td>\n",
       "      <td>4690</td>\n",
       "      <td>-96</td>\n",
       "    </tr>\n",
       "    <tr>\n",
       "      <th>bike_name</th>\n",
       "      <td>274</td>\n",
       "      <td>273</td>\n",
       "      <td>-1</td>\n",
       "    </tr>\n",
       "    <tr>\n",
       "      <th>city_posted</th>\n",
       "      <td>3</td>\n",
       "      <td>3</td>\n",
       "      <td>0</td>\n",
       "    </tr>\n",
       "    <tr>\n",
       "      <th>km_driven</th>\n",
       "      <td>570</td>\n",
       "      <td>560</td>\n",
       "      <td>-10</td>\n",
       "    </tr>\n",
       "    <tr>\n",
       "      <th>color</th>\n",
       "      <td>45</td>\n",
       "      <td>45</td>\n",
       "      <td>0</td>\n",
       "    </tr>\n",
       "    <tr>\n",
       "      <th>fuel_type</th>\n",
       "      <td>4</td>\n",
       "      <td>4</td>\n",
       "      <td>0</td>\n",
       "    </tr>\n",
       "    <tr>\n",
       "      <th>price</th>\n",
       "      <td>303</td>\n",
       "      <td>300</td>\n",
       "      <td>-3</td>\n",
       "    </tr>\n",
       "    <tr>\n",
       "      <th>model_year</th>\n",
       "      <td>35</td>\n",
       "      <td>35</td>\n",
       "      <td>0</td>\n",
       "    </tr>\n",
       "    <tr>\n",
       "      <th>owner_type</th>\n",
       "      <td>6</td>\n",
       "      <td>6</td>\n",
       "      <td>0</td>\n",
       "    </tr>\n",
       "  </tbody>\n",
       "</table>\n",
       "</div>"
      ],
      "text/plain": [
       "             clean  dirty  diff\n",
       "id            4786   4690   -96\n",
       "bike_name      274    273    -1\n",
       "city_posted      3      3     0\n",
       "km_driven      570    560   -10\n",
       "color           45     45     0\n",
       "fuel_type        4      4     0\n",
       "price          303    300    -3\n",
       "model_year      35     35     0\n",
       "owner_type       6      6     0"
      ]
     },
     "execution_count": 12,
     "metadata": {},
     "output_type": "execute_result"
    }
   ],
   "source": [
    "print('Unique values by column')\n",
    "col_counts_d = dict()\n",
    "for col in df_dirty.columns:\n",
    "    col_counts_d[col] = df_dirty[col].value_counts()\n",
    "    k,v = col, col_counts_d[col]\n",
    "\n",
    "\n",
    "_tmp = {\n",
    "'clean':    {k: len(v) for k, v in col_counts.items()},\n",
    "'dirty':    {k: len(v) for k, v in col_counts_d.items()}\n",
    "}\n",
    "counts_df = pd.DataFrame.from_records(data=_tmp, columns=['clean', 'dirty'])\n",
    "counts_df['diff'] = counts_df['dirty'] - counts_df['clean']\n",
    "counts_df"
   ]
  },
  {
   "cell_type": "markdown",
   "metadata": {
    "pycharm": {
     "name": "#%% md\n"
    }
   },
   "source": [
    "### Values impossible to impute\n"
   ]
  },
  {
   "cell_type": "code",
   "execution_count": 14,
   "metadata": {
    "collapsed": false,
    "jupyter": {
     "outputs_hidden": false
    },
    "pycharm": {
     "name": "#%%\n"
    }
   },
   "outputs": [
    {
     "name": "stdout",
     "output_type": "stream",
     "text": [
      "Column id has affected rows = 96\n",
      "Column bike_name has affected rows = 2\n",
      "Column city_posted has affected rows = 0\n",
      "Column km_driven has affected rows = 10\n",
      "Column color has affected rows = 0\n",
      "Column fuel_type has affected rows = 0\n",
      "Column price has affected rows = 3\n",
      "Column model_year has affected rows = 0\n",
      "Column owner_type has affected rows = 0\n"
     ]
    }
   ],
   "source": [
    "impossible = {k: None for k in target_columns}\n",
    "affected_rows = {k: 0 for k in target_columns}\n",
    "for col in target_columns:\n",
    "    unq_dirty = df_dirty[col].unique()\n",
    "    unq_clean = df_orig[col].unique()\n",
    "    impossible[col] = [_ for _ in unq_clean if _ not in unq_dirty]\n",
    "    # if len(impossible[col]) > 0:\n",
    "    #     print('\\n'.join([str(_) for _ in impossible[col]]))\n",
    "    affected_rows[col] = len(df_orig[col].loc[df_orig[col].isin(impossible[col])])\n",
    "    print(f'Column {col} has affected rows = {affected_rows[col]}')"
   ]
  },
  {
   "cell_type": "code",
   "execution_count": 15,
   "metadata": {
    "collapsed": false,
    "jupyter": {
     "outputs_hidden": false
    },
    "pycharm": {
     "name": "#%%\n"
    }
   },
   "outputs": [
    {
     "name": "stdout",
     "output_type": "stream",
     "text": [
      "Distribution of values over the entire dataset compared to missing values. \n",
      "\n",
      "id\n",
      "       Full dataset  Dirty rows\n",
      "36082      0.000209        <NA>\n",
      "44571      0.000209        <NA>\n",
      "44569      0.000209        <NA>\n",
      "44567      0.000209        <NA>\n",
      "44565      0.000209        <NA>\n",
      "...             ...         ...\n",
      "40139      0.000209        <NA>\n",
      "40138      0.000209        <NA>\n",
      "40117      0.000209        <NA>\n",
      "40116      0.000209        <NA>\n",
      "48770      0.000209        <NA>\n",
      "\n",
      "[4786 rows x 2 columns]\n",
      "\n",
      "bike_name\n",
      "                             Full dataset  Dirty rows\n",
      "bajaj_pulsar_150cc_dtsi          0.110113    0.114583\n",
      "bajaj_pulsar_180cc_dtsi          0.036983    0.052083\n",
      "bajaj_pulsar_220f_dtsi           0.030088        <NA>\n",
      "honda_unicorn_alloy              0.029879    0.052083\n",
      "yamaha_yzf_r15_version_2.0       0.029461    0.041667\n",
      "...                                   ...         ...\n",
      "honda_cbr_250r_abs_tricolor      0.000209        <NA>\n",
      "honda_cbr_250r_std_tricolor      0.000209        <NA>\n",
      "suzuki_zeus_125xcd               0.000209        <NA>\n",
      "suzuki_zeus_125eu                0.000209        <NA>\n",
      "lml_freedom_dx                   0.000209        <NA>\n",
      "\n",
      "[274 rows x 2 columns]\n",
      "\n",
      "city_posted\n",
      "           Full dataset  Dirty rows\n",
      "delhi          0.380694       0.375\n",
      "bangalore      0.352486    0.260417\n",
      "mumbai          0.26682    0.364583\n",
      "\n",
      "km_driven\n",
      "         Full dataset  Dirty rows\n",
      "40000        0.046803     0.09375\n",
      "30000        0.045758    0.052083\n",
      "50000        0.041997    0.020833\n",
      "35000         0.03155    0.052083\n",
      "20000        0.030297     0.03125\n",
      "...               ...         ...\n",
      "18200        0.000209        <NA>\n",
      "18172        0.000209        <NA>\n",
      "17900        0.000209        <NA>\n",
      "17820        0.000209        <NA>\n",
      "5456565      0.000209        <NA>\n",
      "\n",
      "[570 rows x 2 columns]\n",
      "\n",
      "color\n",
      "                Full dataset  Dirty rows\n",
      "black               0.552445    0.510417\n",
      "red                 0.171751    0.197917\n",
      "blue                0.080234    0.072917\n",
      "silver               0.04743    0.041667\n",
      "white               0.038654     0.09375\n",
      "grey                0.024446    0.010417\n",
      "green               0.024028     0.03125\n",
      "yellow              0.018805        <NA>\n",
      "maroon              0.017551    0.020833\n",
      "orange              0.006895    0.010417\n",
      "golden              0.002925        <NA>\n",
      "cherry              0.002089        <NA>\n",
      "purple               0.00188    0.010417\n",
      "desertstorm         0.001463        <NA>\n",
      "brown               0.001254        <NA>\n",
      "twilight            0.001045        <NA>\n",
      "orenge              0.000627        <NA>\n",
      "parpal              0.000418        <NA>\n",
      "stone               0.000418        <NA>\n",
      "new                 0.000418        <NA>\n",
      "saffron             0.000209        <NA>\n",
      "metalicbrown        0.000209        <NA>\n",
      "tricolor            0.000209        <NA>\n",
      "ornage              0.000209        <NA>\n",
      "trilight            0.000209        <NA>\n",
      "twilite             0.000209        <NA>\n",
      "twinlight           0.000209        <NA>\n",
      "26000               0.000209        <NA>\n",
      "mehandi             0.000209        <NA>\n",
      "flikr               0.000209        <NA>\n",
      "ambrorenge          0.000209        <NA>\n",
      "bl'                 0.000209        <NA>\n",
      "cherrycolour        0.000209        <NA>\n",
      "creamandbrown       0.000209        <NA>\n",
      "cromeower           0.000209        <NA>\n",
      "desert              0.000209        <NA>\n",
      "gold                0.000209        <NA>\n",
      "matt                0.000209        <NA>\n",
      "lightgolden         0.000209        <NA>\n",
      "lightingbrown       0.000209        <NA>\n",
      "lightining          0.000209        <NA>\n",
      "lightning           0.000209        <NA>\n",
      "amberwhisky         0.000209        <NA>\n",
      "lip                 0.000209        <NA>\n",
      "limitededition      0.000209        <NA>\n",
      "\n",
      "fuel_type\n",
      "          Full dataset  Dirty rows\n",
      "petrol        0.883828    0.927083\n",
      "empty         0.113038    0.072917\n",
      "diesel        0.002716        <NA>\n",
      "electric      0.000418        <NA>\n",
      "\n",
      "price\n",
      "         Full dataset  Dirty rows\n",
      "35000        0.025282    0.041667\n",
      "25000        0.024028    0.020833\n",
      "40000         0.02173    0.010417\n",
      "34999        0.020894     0.03125\n",
      "30000        0.020059    0.052083\n",
      "...               ...         ...\n",
      "43600        0.000209        <NA>\n",
      "43999        0.000209        <NA>\n",
      "13499        0.000209        <NA>\n",
      "72999        0.000209        <NA>\n",
      "1650000      0.000209        <NA>\n",
      "\n",
      "[303 rows x 2 columns]\n",
      "\n",
      "model_year\n",
      "      Full dataset  Dirty rows\n",
      "2011      0.115336    0.104167\n",
      "2013      0.113665     0.09375\n",
      "2012      0.113038    0.135417\n",
      "2014      0.095905    0.104167\n",
      "2010      0.095696      0.0625\n",
      "2009      0.071041    0.114583\n",
      "2008       0.06519    0.052083\n",
      "2007      0.061011    0.041667\n",
      "2006      0.052236     0.03125\n",
      "2005       0.03949     0.03125\n",
      "2015      0.038654    0.072917\n",
      "2004      0.026745        <NA>\n",
      "2003      0.023819    0.020833\n",
      "2002      0.018387     0.03125\n",
      "2001       0.01191    0.020833\n",
      "2000      0.010447    0.010417\n",
      "1998      0.006895    0.020833\n",
      "1999      0.004597    0.010417\n",
      "1996      0.004388        <NA>\n",
      "1997      0.004179        <NA>\n",
      "1995      0.004179    0.010417\n",
      "1994      0.003134        <NA>\n",
      "1990      0.002925    0.010417\n",
      "1988      0.002298    0.010417\n",
      "1981      0.002089        <NA>\n",
      "1987      0.001672        <NA>\n",
      "1986      0.001672        <NA>\n",
      "1985      0.001672    0.010417\n",
      "1982      0.001463        <NA>\n",
      "1992      0.001254        <NA>\n",
      "1989      0.001254        <NA>\n",
      "1991      0.001045        <NA>\n",
      "1993      0.001045        <NA>\n",
      "1984      0.000836        <NA>\n",
      "1983      0.000836        <NA>\n",
      "\n",
      "owner_type\n",
      "             Full dataset  Dirty rows\n",
      "firstowner       0.697451    0.677083\n",
      "secondowner      0.256582    0.270833\n",
      "thirdowner       0.038028     0.03125\n",
      "fourthowner      0.006059    0.020833\n",
      "fifthowner       0.001672        <NA>\n",
      "naowner          0.000209        <NA>\n"
     ]
    }
   ],
   "source": [
    "print('Distribution of values over the entire dataset compared to missing values. ')\n",
    "for col in target_columns:\n",
    "    df_orig[col].loc[nulls[col]].value_counts()\n",
    "    _tmp = {\n",
    "        'Full dataset': col_counts[col]/len(df_orig),\n",
    "        'Dirty rows': df_orig[col].loc[nulls[col]].value_counts()/sum(nulls[col])\n",
    "    }\n",
    "    cdf = pd.DataFrame.from_records(data=_tmp, columns=['Full dataset', 'Dirty rows']).sort_values('Full dataset', ascending=False)\n",
    "    print()\n",
    "    print(col)\n",
    "    print(cdf)\n"
   ]
  },
  {
   "cell_type": "markdown",
   "metadata": {
    "pycharm": {
     "name": "#%% md\n"
    }
   },
   "source": [
    "# Imputed dataframe"
   ]
  },
  {
   "cell_type": "code",
   "execution_count": 629,
   "metadata": {
    "collapsed": false,
    "jupyter": {
     "outputs_hidden": false
    },
    "pycharm": {
     "name": "#%%\n"
    }
   },
   "outputs": [],
   "source": [
    "imputed_dataset_path = 'results/imputed_datasets/contraceptive_all_columns_40_imputed.csv'\n",
    "df_imp = pd.read_csv(imputed_dataset_path)"
   ]
  },
  {
   "cell_type": "code",
   "execution_count": 630,
   "metadata": {
    "collapsed": false,
    "jupyter": {
     "outputs_hidden": false
    },
    "pycharm": {
     "name": "#%%\n"
    }
   },
   "outputs": [
    {
     "name": "stdout",
     "output_type": "stream",
     "text": [
      "A1\n",
      "A2\n",
      "A3\n",
      "A4\n",
      "A5\n",
      "A6\n",
      "A7\n",
      "A8\n",
      "A9\n",
      "A10\n"
     ]
    }
   ],
   "source": [
    "# Undo refactoring of strings\n",
    "\n",
    "def clean_str(val):\n",
    "    if val != val:\n",
    "        # value is nan\n",
    "        return ''\n",
    "    else:\n",
    "        return str(val).split('_', maxsplit=1)[1]\n",
    "\n",
    "for i, col in enumerate(df_imp.columns):\n",
    "    print(col)\n",
    "    df_imp[col] = df_imp[col].apply(clean_str)\n",
    "\n",
    "df_imp.to_csv('results/imputed_datasets/contraceptive_all_columns_40_imputed_c.csv', index=False)\n",
    "# df_imp = df_imp.convert_dtypes()"
   ]
  },
  {
   "cell_type": "code",
   "execution_count": 615,
   "metadata": {
    "collapsed": false,
    "jupyter": {
     "outputs_hidden": false
    },
    "pycharm": {
     "name": "#%%\n"
    }
   },
   "outputs": [
    {
     "name": "stdout",
     "output_type": "stream",
     "text": [
      "    total  wrong  ratio\n",
      "A1                     \n",
      "25     33     33    1.0\n",
      "32     33     33    1.0\n",
      "30     32     32    1.0\n",
      "26     28     28    1.0\n",
      "28     27     27    1.0\n",
      "21     26     26    1.0\n",
      "35     25     25    1.0\n",
      "29     25     25    1.0\n",
      "38     24     24    1.0\n",
      "33     24     24    1.0\n",
      "47     24     24    1.0\n",
      "45     22     22    1.0\n",
      "36     22     22    1.0\n",
      "22     21     21    1.0\n",
      "27     20     20    1.0\n",
      "23     18     18    1.0\n",
      "24     16     16    1.0\n",
      "34     16     16    1.0\n",
      "20     15     15    1.0\n",
      "43     15     15    1.0\n",
      "41     14     14    1.0\n",
      "31     14     14    1.0\n",
      "39     13     13    1.0\n",
      "37     12     12    1.0\n",
      "42     12     12    1.0\n",
      "49     11     11    1.0\n",
      "40      9      9    1.0\n",
      "44      8      8    1.0\n",
      "19      8      8    1.0\n",
      "48      8      8    1.0\n",
      "46      7      7    1.0\n",
      "18      3      3    1.0\n",
      "17      2      2    1.0\n",
      "16      2      2    1.0\n",
      "      total  wrong     ratio\n",
      "A2                          \n",
      "high    236     34  0.144068\n",
      "hm      153     30  0.196078\n",
      "lm      129     29  0.224806\n",
      "low      71     19  0.267606\n",
      "      total  wrong     ratio\n",
      "A3                          \n",
      "high    361     64  0.177285\n",
      "hm      134     27  0.201493\n",
      "lm       73     15  0.205479\n",
      "low      21     10  0.476190\n",
      "    total  wrong  ratio\n",
      "A4                     \n",
      "1     118    118    1.0\n",
      "2     114    114    1.0\n",
      "3     108    108    1.0\n",
      "4      71     71    1.0\n",
      "5      59     59    1.0\n",
      "0      41     41    1.0\n",
      "6      30     30    1.0\n",
      "7      20     20    1.0\n",
      "8      11     11    1.0\n",
      "9       7      7    1.0\n",
      "10      4      4    1.0\n",
      "11      4      4    1.0\n",
      "12      1      1    1.0\n",
      "13      1      1    1.0\n",
      "           total  wrong     ratio\n",
      "A5                               \n",
      "islam        504     58  0.115079\n",
      "non-islam     85     30  0.352941\n",
      "     total  wrong     ratio\n",
      "A6                         \n",
      "no     446      3  0.006726\n",
      "yes    143     11  0.076923\n",
      "    total  wrong     ratio\n",
      "A7                        \n",
      "o3    246     35  0.142276\n",
      "o1    169     38  0.224852\n",
      "o2    162     39  0.240741\n",
      "o4     12     11  0.916667\n",
      "      total  wrong     ratio\n",
      "A8                          \n",
      "high    280     66  0.235714\n",
      "hm      168     49  0.291667\n",
      "lm       84     28  0.333333\n",
      "low      57     20  0.350877\n",
      "          total  wrong     ratio\n",
      "A9                              \n",
      "good        545     16  0.029358\n",
      "not-good     44     32  0.727273\n",
      "            total  wrong     ratio\n",
      "A10                               \n",
      "no-use        246     78  0.317073\n",
      "short-term    212     49  0.231132\n",
      "long-term     131     62  0.473282\n"
     ]
    }
   ],
   "source": [
    "correct_imputations = {k:None for k in target_columns}\n",
    "incorrect_imputations = {k:None for k in target_columns}\n",
    "for col in correct_imputations:\n",
    "    imputations = df_imp[col].loc[nulls[col]]\n",
    "    v_correct = (df_imp[col].loc[nulls[col]] == df_orig.loc[nulls[col], col])\n",
    "    v_incorrect = (df_imp[col].loc[nulls[col]] != df_orig.loc[nulls[col], col])\n",
    "\n",
    "    correct_imputations[col] = imputations[v_correct].index\n",
    "    incorrect_imputations[col] = imputations[v_incorrect].index\n",
    "    count_clean = df_orig.loc[v_correct.index].value_counts(col)\n",
    "    count_dirty = df_orig.iloc[incorrect_imputations[col]].value_counts(col)\n",
    "    frac_wrong = count_dirty/count_clean\n",
    "    dd = pd.DataFrame(columns=['total', 'wrong', 'ratio'])\n",
    "    dd['total'] = count_clean\n",
    "    dd['wrong'] = count_dirty\n",
    "    dd['ratio'] = frac_wrong\n",
    "    print(dd)"
   ]
  },
  {
   "cell_type": "code",
   "execution_count": 609,
   "metadata": {
    "collapsed": false,
    "jupyter": {
     "outputs_hidden": false
    },
    "pycharm": {
     "name": "#%%\n"
    }
   },
   "outputs": [
    {
     "ename": "KeyError",
     "evalue": "\"Passing list-likes to .loc or [] with any missing labels is no longer supported. The following labels were missing: Int64Index([1476, 1480, 1485, 1486, 1494,\\n            ...\\n            2974, 2979, 2988, 2990, 3004],\\n           dtype='int64', length=254). See https://pandas.pydata.org/pandas-docs/stable/user_guide/indexing.html#deprecate-loc-reindex-listlike\"",
     "output_type": "error",
     "traceback": [
      "\u001b[0;31m---------------------------------------------------------------------------\u001b[0m",
      "\u001b[0;31mKeyError\u001b[0m                                  Traceback (most recent call last)",
      "\u001b[0;32m<ipython-input-609-e10033afbd37>\u001b[0m in \u001b[0;36m<module>\u001b[0;34m\u001b[0m\n\u001b[1;32m      1\u001b[0m \u001b[0mcol\u001b[0m \u001b[0;34m=\u001b[0m \u001b[0;34m'marital-status'\u001b[0m\u001b[0;34m\u001b[0m\u001b[0;34m\u001b[0m\u001b[0m\n\u001b[0;32m----> 2\u001b[0;31m \u001b[0mi1\u001b[0m \u001b[0;34m=\u001b[0m \u001b[0mset\u001b[0m\u001b[0;34m(\u001b[0m\u001b[0mdf_orig\u001b[0m\u001b[0;34m.\u001b[0m\u001b[0mloc\u001b[0m\u001b[0;34m[\u001b[0m\u001b[0mincorrect_imputations\u001b[0m\u001b[0;34m[\u001b[0m\u001b[0mcol\u001b[0m\u001b[0;34m]\u001b[0m\u001b[0;34m]\u001b[0m\u001b[0;34m.\u001b[0m\u001b[0mindex\u001b[0m\u001b[0;34m)\u001b[0m\u001b[0;34m\u001b[0m\u001b[0;34m\u001b[0m\u001b[0m\n\u001b[0m\u001b[1;32m      3\u001b[0m \u001b[0mi2\u001b[0m \u001b[0;34m=\u001b[0m \u001b[0mset\u001b[0m\u001b[0;34m(\u001b[0m\u001b[0mdf_orig\u001b[0m\u001b[0;34m.\u001b[0m\u001b[0mloc\u001b[0m\u001b[0;34m[\u001b[0m\u001b[0mdf_orig\u001b[0m\u001b[0;34m[\u001b[0m\u001b[0mcol\u001b[0m\u001b[0;34m]\u001b[0m\u001b[0;34m.\u001b[0m\u001b[0misin\u001b[0m\u001b[0;34m(\u001b[0m\u001b[0mfrequent_values\u001b[0m\u001b[0;34m[\u001b[0m\u001b[0mcol\u001b[0m\u001b[0;34m]\u001b[0m\u001b[0;34m)\u001b[0m\u001b[0;34m]\u001b[0m\u001b[0;34m.\u001b[0m\u001b[0mindex\u001b[0m\u001b[0;34m)\u001b[0m\u001b[0;34m\u001b[0m\u001b[0;34m\u001b[0m\u001b[0m\n\u001b[1;32m      4\u001b[0m \u001b[0mi1i2\u001b[0m \u001b[0;34m=\u001b[0m \u001b[0mlist\u001b[0m\u001b[0;34m(\u001b[0m\u001b[0mi1\u001b[0m\u001b[0;34m.\u001b[0m\u001b[0mintersection\u001b[0m\u001b[0;34m(\u001b[0m\u001b[0mi2\u001b[0m\u001b[0;34m)\u001b[0m\u001b[0;34m)\u001b[0m\u001b[0;34m\u001b[0m\u001b[0;34m\u001b[0m\u001b[0m\n\u001b[1;32m      5\u001b[0m \u001b[0mdisplay\u001b[0m\u001b[0;34m(\u001b[0m\u001b[0mdf_imp\u001b[0m\u001b[0;34m.\u001b[0m\u001b[0miloc\u001b[0m\u001b[0;34m[\u001b[0m\u001b[0mi1i2\u001b[0m\u001b[0;34m]\u001b[0m\u001b[0;34m)\u001b[0m\u001b[0;34m\u001b[0m\u001b[0;34m\u001b[0m\u001b[0m\n",
      "\u001b[0;32m~/anaconda3/envs/grimp/lib/python3.9/site-packages/pandas/core/indexing.py\u001b[0m in \u001b[0;36m__getitem__\u001b[0;34m(self, key)\u001b[0m\n\u001b[1;32m    893\u001b[0m \u001b[0;34m\u001b[0m\u001b[0m\n\u001b[1;32m    894\u001b[0m             \u001b[0mmaybe_callable\u001b[0m \u001b[0;34m=\u001b[0m \u001b[0mcom\u001b[0m\u001b[0;34m.\u001b[0m\u001b[0mapply_if_callable\u001b[0m\u001b[0;34m(\u001b[0m\u001b[0mkey\u001b[0m\u001b[0;34m,\u001b[0m \u001b[0mself\u001b[0m\u001b[0;34m.\u001b[0m\u001b[0mobj\u001b[0m\u001b[0;34m)\u001b[0m\u001b[0;34m\u001b[0m\u001b[0;34m\u001b[0m\u001b[0m\n\u001b[0;32m--> 895\u001b[0;31m             \u001b[0;32mreturn\u001b[0m \u001b[0mself\u001b[0m\u001b[0;34m.\u001b[0m\u001b[0m_getitem_axis\u001b[0m\u001b[0;34m(\u001b[0m\u001b[0mmaybe_callable\u001b[0m\u001b[0;34m,\u001b[0m \u001b[0maxis\u001b[0m\u001b[0;34m=\u001b[0m\u001b[0maxis\u001b[0m\u001b[0;34m)\u001b[0m\u001b[0;34m\u001b[0m\u001b[0;34m\u001b[0m\u001b[0m\n\u001b[0m\u001b[1;32m    896\u001b[0m \u001b[0;34m\u001b[0m\u001b[0m\n\u001b[1;32m    897\u001b[0m     \u001b[0;32mdef\u001b[0m \u001b[0m_is_scalar_access\u001b[0m\u001b[0;34m(\u001b[0m\u001b[0mself\u001b[0m\u001b[0;34m,\u001b[0m \u001b[0mkey\u001b[0m\u001b[0;34m:\u001b[0m \u001b[0mTuple\u001b[0m\u001b[0;34m)\u001b[0m\u001b[0;34m:\u001b[0m\u001b[0;34m\u001b[0m\u001b[0;34m\u001b[0m\u001b[0m\n",
      "\u001b[0;32m~/anaconda3/envs/grimp/lib/python3.9/site-packages/pandas/core/indexing.py\u001b[0m in \u001b[0;36m_getitem_axis\u001b[0;34m(self, key, axis)\u001b[0m\n\u001b[1;32m   1111\u001b[0m                     \u001b[0;32mraise\u001b[0m \u001b[0mValueError\u001b[0m\u001b[0;34m(\u001b[0m\u001b[0;34m\"Cannot index with multidimensional key\"\u001b[0m\u001b[0;34m)\u001b[0m\u001b[0;34m\u001b[0m\u001b[0;34m\u001b[0m\u001b[0m\n\u001b[1;32m   1112\u001b[0m \u001b[0;34m\u001b[0m\u001b[0m\n\u001b[0;32m-> 1113\u001b[0;31m                 \u001b[0;32mreturn\u001b[0m \u001b[0mself\u001b[0m\u001b[0;34m.\u001b[0m\u001b[0m_getitem_iterable\u001b[0m\u001b[0;34m(\u001b[0m\u001b[0mkey\u001b[0m\u001b[0;34m,\u001b[0m \u001b[0maxis\u001b[0m\u001b[0;34m=\u001b[0m\u001b[0maxis\u001b[0m\u001b[0;34m)\u001b[0m\u001b[0;34m\u001b[0m\u001b[0;34m\u001b[0m\u001b[0m\n\u001b[0m\u001b[1;32m   1114\u001b[0m \u001b[0;34m\u001b[0m\u001b[0m\n\u001b[1;32m   1115\u001b[0m             \u001b[0;31m# nested tuple slicing\u001b[0m\u001b[0;34m\u001b[0m\u001b[0;34m\u001b[0m\u001b[0;34m\u001b[0m\u001b[0m\n",
      "\u001b[0;32m~/anaconda3/envs/grimp/lib/python3.9/site-packages/pandas/core/indexing.py\u001b[0m in \u001b[0;36m_getitem_iterable\u001b[0;34m(self, key, axis)\u001b[0m\n\u001b[1;32m   1051\u001b[0m \u001b[0;34m\u001b[0m\u001b[0m\n\u001b[1;32m   1052\u001b[0m         \u001b[0;31m# A collection of keys\u001b[0m\u001b[0;34m\u001b[0m\u001b[0;34m\u001b[0m\u001b[0;34m\u001b[0m\u001b[0m\n\u001b[0;32m-> 1053\u001b[0;31m         \u001b[0mkeyarr\u001b[0m\u001b[0;34m,\u001b[0m \u001b[0mindexer\u001b[0m \u001b[0;34m=\u001b[0m \u001b[0mself\u001b[0m\u001b[0;34m.\u001b[0m\u001b[0m_get_listlike_indexer\u001b[0m\u001b[0;34m(\u001b[0m\u001b[0mkey\u001b[0m\u001b[0;34m,\u001b[0m \u001b[0maxis\u001b[0m\u001b[0;34m,\u001b[0m \u001b[0mraise_missing\u001b[0m\u001b[0;34m=\u001b[0m\u001b[0;32mFalse\u001b[0m\u001b[0;34m)\u001b[0m\u001b[0;34m\u001b[0m\u001b[0;34m\u001b[0m\u001b[0m\n\u001b[0m\u001b[1;32m   1054\u001b[0m         return self.obj._reindex_with_indexers(\n\u001b[1;32m   1055\u001b[0m             \u001b[0;34m{\u001b[0m\u001b[0maxis\u001b[0m\u001b[0;34m:\u001b[0m \u001b[0;34m[\u001b[0m\u001b[0mkeyarr\u001b[0m\u001b[0;34m,\u001b[0m \u001b[0mindexer\u001b[0m\u001b[0;34m]\u001b[0m\u001b[0;34m}\u001b[0m\u001b[0;34m,\u001b[0m \u001b[0mcopy\u001b[0m\u001b[0;34m=\u001b[0m\u001b[0;32mTrue\u001b[0m\u001b[0;34m,\u001b[0m \u001b[0mallow_dups\u001b[0m\u001b[0;34m=\u001b[0m\u001b[0;32mTrue\u001b[0m\u001b[0;34m\u001b[0m\u001b[0;34m\u001b[0m\u001b[0m\n",
      "\u001b[0;32m~/anaconda3/envs/grimp/lib/python3.9/site-packages/pandas/core/indexing.py\u001b[0m in \u001b[0;36m_get_listlike_indexer\u001b[0;34m(self, key, axis, raise_missing)\u001b[0m\n\u001b[1;32m   1264\u001b[0m             \u001b[0mkeyarr\u001b[0m\u001b[0;34m,\u001b[0m \u001b[0mindexer\u001b[0m\u001b[0;34m,\u001b[0m \u001b[0mnew_indexer\u001b[0m \u001b[0;34m=\u001b[0m \u001b[0max\u001b[0m\u001b[0;34m.\u001b[0m\u001b[0m_reindex_non_unique\u001b[0m\u001b[0;34m(\u001b[0m\u001b[0mkeyarr\u001b[0m\u001b[0;34m)\u001b[0m\u001b[0;34m\u001b[0m\u001b[0;34m\u001b[0m\u001b[0m\n\u001b[1;32m   1265\u001b[0m \u001b[0;34m\u001b[0m\u001b[0m\n\u001b[0;32m-> 1266\u001b[0;31m         \u001b[0mself\u001b[0m\u001b[0;34m.\u001b[0m\u001b[0m_validate_read_indexer\u001b[0m\u001b[0;34m(\u001b[0m\u001b[0mkeyarr\u001b[0m\u001b[0;34m,\u001b[0m \u001b[0mindexer\u001b[0m\u001b[0;34m,\u001b[0m \u001b[0maxis\u001b[0m\u001b[0;34m,\u001b[0m \u001b[0mraise_missing\u001b[0m\u001b[0;34m=\u001b[0m\u001b[0mraise_missing\u001b[0m\u001b[0;34m)\u001b[0m\u001b[0;34m\u001b[0m\u001b[0;34m\u001b[0m\u001b[0m\n\u001b[0m\u001b[1;32m   1267\u001b[0m         \u001b[0;32mreturn\u001b[0m \u001b[0mkeyarr\u001b[0m\u001b[0;34m,\u001b[0m \u001b[0mindexer\u001b[0m\u001b[0;34m\u001b[0m\u001b[0;34m\u001b[0m\u001b[0m\n\u001b[1;32m   1268\u001b[0m \u001b[0;34m\u001b[0m\u001b[0m\n",
      "\u001b[0;32m~/anaconda3/envs/grimp/lib/python3.9/site-packages/pandas/core/indexing.py\u001b[0m in \u001b[0;36m_validate_read_indexer\u001b[0;34m(self, key, indexer, axis, raise_missing)\u001b[0m\n\u001b[1;32m   1319\u001b[0m \u001b[0;34m\u001b[0m\u001b[0m\n\u001b[1;32m   1320\u001b[0m             \u001b[0;32mwith\u001b[0m \u001b[0moption_context\u001b[0m\u001b[0;34m(\u001b[0m\u001b[0;34m\"display.max_seq_items\"\u001b[0m\u001b[0;34m,\u001b[0m \u001b[0;36m10\u001b[0m\u001b[0;34m,\u001b[0m \u001b[0;34m\"display.width\"\u001b[0m\u001b[0;34m,\u001b[0m \u001b[0;36m80\u001b[0m\u001b[0;34m)\u001b[0m\u001b[0;34m:\u001b[0m\u001b[0;34m\u001b[0m\u001b[0;34m\u001b[0m\u001b[0m\n\u001b[0;32m-> 1321\u001b[0;31m                 raise KeyError(\n\u001b[0m\u001b[1;32m   1322\u001b[0m                     \u001b[0;34m\"Passing list-likes to .loc or [] with any missing labels \"\u001b[0m\u001b[0;34m\u001b[0m\u001b[0;34m\u001b[0m\u001b[0m\n\u001b[1;32m   1323\u001b[0m                     \u001b[0;34m\"is no longer supported. \"\u001b[0m\u001b[0;34m\u001b[0m\u001b[0;34m\u001b[0m\u001b[0m\n",
      "\u001b[0;31mKeyError\u001b[0m: \"Passing list-likes to .loc or [] with any missing labels is no longer supported. The following labels were missing: Int64Index([1476, 1480, 1485, 1486, 1494,\\n            ...\\n            2974, 2979, 2988, 2990, 3004],\\n           dtype='int64', length=254). See https://pandas.pydata.org/pandas-docs/stable/user_guide/indexing.html#deprecate-loc-reindex-listlike\""
     ]
    }
   ],
   "source": [
    "col = 'marital-status'\n",
    "i1 = set(df_orig.loc[incorrect_imputations[col]].index)\n",
    "i2 = set(df_orig.loc[df_orig[col].isin(frequent_values[col])].index)\n",
    "i1i2 = list(i1.intersection(i2))\n",
    "display(df_imp.iloc[i1i2])\n",
    "display(df_orig.iloc[i1i2])"
   ]
  },
  {
   "cell_type": "code",
   "execution_count": 610,
   "metadata": {
    "collapsed": false,
    "jupyter": {
     "outputs_hidden": false
    },
    "pycharm": {
     "name": "#%%\n"
    }
   },
   "outputs": [
    {
     "ename": "KeyError",
     "evalue": "'A1'",
     "output_type": "error",
     "traceback": [
      "\u001b[0;31m---------------------------------------------------------------------------\u001b[0m",
      "\u001b[0;31mKeyError\u001b[0m                                  Traceback (most recent call last)",
      "\u001b[0;32m~/anaconda3/envs/grimp/lib/python3.9/site-packages/pandas/core/indexes/base.py\u001b[0m in \u001b[0;36mget_loc\u001b[0;34m(self, key, method, tolerance)\u001b[0m\n\u001b[1;32m   3079\u001b[0m             \u001b[0;32mtry\u001b[0m\u001b[0;34m:\u001b[0m\u001b[0;34m\u001b[0m\u001b[0;34m\u001b[0m\u001b[0m\n\u001b[0;32m-> 3080\u001b[0;31m                 \u001b[0;32mreturn\u001b[0m \u001b[0mself\u001b[0m\u001b[0;34m.\u001b[0m\u001b[0m_engine\u001b[0m\u001b[0;34m.\u001b[0m\u001b[0mget_loc\u001b[0m\u001b[0;34m(\u001b[0m\u001b[0mcasted_key\u001b[0m\u001b[0;34m)\u001b[0m\u001b[0;34m\u001b[0m\u001b[0;34m\u001b[0m\u001b[0m\n\u001b[0m\u001b[1;32m   3081\u001b[0m             \u001b[0;32mexcept\u001b[0m \u001b[0mKeyError\u001b[0m \u001b[0;32mas\u001b[0m \u001b[0merr\u001b[0m\u001b[0;34m:\u001b[0m\u001b[0;34m\u001b[0m\u001b[0;34m\u001b[0m\u001b[0m\n",
      "\u001b[0;32mpandas/_libs/index.pyx\u001b[0m in \u001b[0;36mpandas._libs.index.IndexEngine.get_loc\u001b[0;34m()\u001b[0m\n",
      "\u001b[0;32mpandas/_libs/index.pyx\u001b[0m in \u001b[0;36mpandas._libs.index.IndexEngine.get_loc\u001b[0;34m()\u001b[0m\n",
      "\u001b[0;32mpandas/_libs/hashtable_class_helper.pxi\u001b[0m in \u001b[0;36mpandas._libs.hashtable.PyObjectHashTable.get_item\u001b[0;34m()\u001b[0m\n",
      "\u001b[0;32mpandas/_libs/hashtable_class_helper.pxi\u001b[0m in \u001b[0;36mpandas._libs.hashtable.PyObjectHashTable.get_item\u001b[0;34m()\u001b[0m\n",
      "\u001b[0;31mKeyError\u001b[0m: 'A1'",
      "\nThe above exception was the direct cause of the following exception:\n",
      "\u001b[0;31mKeyError\u001b[0m                                  Traceback (most recent call last)",
      "\u001b[0;32m<ipython-input-610-7a4d3cbb763f>\u001b[0m in \u001b[0;36m<module>\u001b[0;34m\u001b[0m\n\u001b[1;32m      1\u001b[0m \u001b[0mimputed_dataset_path\u001b[0m \u001b[0;34m=\u001b[0m \u001b[0;34m'results/imputed_datasets/adult_nonulls_sample10_marital-status_20_imputed.csv'\u001b[0m\u001b[0;34m\u001b[0m\u001b[0;34m\u001b[0m\u001b[0m\n\u001b[1;32m      2\u001b[0m \u001b[0mdf_imp\u001b[0m \u001b[0;34m=\u001b[0m \u001b[0mpd\u001b[0m\u001b[0;34m.\u001b[0m\u001b[0mread_csv\u001b[0m\u001b[0;34m(\u001b[0m\u001b[0mimputed_dataset_path\u001b[0m\u001b[0;34m)\u001b[0m\u001b[0;34m\u001b[0m\u001b[0;34m\u001b[0m\u001b[0m\n\u001b[0;32m----> 3\u001b[0;31m \u001b[0m_\u001b[0m \u001b[0;34m=\u001b[0m \u001b[0mutils\u001b[0m\u001b[0;34m.\u001b[0m\u001b[0mincorrect_imputations\u001b[0m\u001b[0;34m(\u001b[0m\u001b[0mdf_imp\u001b[0m\u001b[0;34m,\u001b[0m \u001b[0mdf_orig\u001b[0m\u001b[0;34m,\u001b[0m \u001b[0mtarget_columns\u001b[0m\u001b[0;34m,\u001b[0m \u001b[0mnulls\u001b[0m\u001b[0;34m)\u001b[0m\u001b[0;34m\u001b[0m\u001b[0;34m\u001b[0m\u001b[0m\n\u001b[0m\u001b[1;32m      4\u001b[0m \u001b[0;34m\u001b[0m\u001b[0m\n",
      "\u001b[0;32m~/PycharmProjects/GRIMP/utils_stats.py\u001b[0m in \u001b[0;36mincorrect_imputations\u001b[0;34m(df_imp, df_orig, target_columns, nulls)\u001b[0m\n\u001b[1;32m     24\u001b[0m     \u001b[0mstat_df\u001b[0m \u001b[0;34m=\u001b[0m \u001b[0;34m{\u001b[0m\u001b[0mk\u001b[0m\u001b[0;34m:\u001b[0m\u001b[0;32mNone\u001b[0m \u001b[0;32mfor\u001b[0m \u001b[0mk\u001b[0m \u001b[0;32min\u001b[0m \u001b[0mtarget_columns\u001b[0m\u001b[0;34m}\u001b[0m\u001b[0;34m\u001b[0m\u001b[0;34m\u001b[0m\u001b[0m\n\u001b[1;32m     25\u001b[0m     \u001b[0;32mfor\u001b[0m \u001b[0mcol\u001b[0m \u001b[0;32min\u001b[0m \u001b[0mcorrect_imputations\u001b[0m\u001b[0;34m:\u001b[0m\u001b[0;34m\u001b[0m\u001b[0;34m\u001b[0m\u001b[0m\n\u001b[0;32m---> 26\u001b[0;31m         \u001b[0mimputations\u001b[0m \u001b[0;34m=\u001b[0m \u001b[0mdf_imp\u001b[0m\u001b[0;34m[\u001b[0m\u001b[0mcol\u001b[0m\u001b[0;34m]\u001b[0m\u001b[0;34m.\u001b[0m\u001b[0mloc\u001b[0m\u001b[0;34m[\u001b[0m\u001b[0mnulls\u001b[0m\u001b[0;34m[\u001b[0m\u001b[0mcol\u001b[0m\u001b[0;34m]\u001b[0m\u001b[0;34m]\u001b[0m\u001b[0;34m\u001b[0m\u001b[0;34m\u001b[0m\u001b[0m\n\u001b[0m\u001b[1;32m     27\u001b[0m         \u001b[0mv_correct\u001b[0m \u001b[0;34m=\u001b[0m \u001b[0;34m(\u001b[0m\u001b[0mdf_imp\u001b[0m\u001b[0;34m[\u001b[0m\u001b[0mcol\u001b[0m\u001b[0;34m]\u001b[0m\u001b[0;34m.\u001b[0m\u001b[0mloc\u001b[0m\u001b[0;34m[\u001b[0m\u001b[0mnulls\u001b[0m\u001b[0;34m[\u001b[0m\u001b[0mcol\u001b[0m\u001b[0;34m]\u001b[0m\u001b[0;34m]\u001b[0m \u001b[0;34m==\u001b[0m \u001b[0mdf_orig\u001b[0m\u001b[0;34m.\u001b[0m\u001b[0mloc\u001b[0m\u001b[0;34m[\u001b[0m\u001b[0mnulls\u001b[0m\u001b[0;34m[\u001b[0m\u001b[0mcol\u001b[0m\u001b[0;34m]\u001b[0m\u001b[0;34m,\u001b[0m \u001b[0mcol\u001b[0m\u001b[0;34m]\u001b[0m\u001b[0;34m)\u001b[0m\u001b[0;34m\u001b[0m\u001b[0;34m\u001b[0m\u001b[0m\n\u001b[1;32m     28\u001b[0m         \u001b[0mv_incorrect\u001b[0m \u001b[0;34m=\u001b[0m \u001b[0;34m(\u001b[0m\u001b[0mdf_imp\u001b[0m\u001b[0;34m[\u001b[0m\u001b[0mcol\u001b[0m\u001b[0;34m]\u001b[0m\u001b[0;34m.\u001b[0m\u001b[0mloc\u001b[0m\u001b[0;34m[\u001b[0m\u001b[0mnulls\u001b[0m\u001b[0;34m[\u001b[0m\u001b[0mcol\u001b[0m\u001b[0;34m]\u001b[0m\u001b[0;34m]\u001b[0m \u001b[0;34m!=\u001b[0m \u001b[0mdf_orig\u001b[0m\u001b[0;34m.\u001b[0m\u001b[0mloc\u001b[0m\u001b[0;34m[\u001b[0m\u001b[0mnulls\u001b[0m\u001b[0;34m[\u001b[0m\u001b[0mcol\u001b[0m\u001b[0;34m]\u001b[0m\u001b[0;34m,\u001b[0m \u001b[0mcol\u001b[0m\u001b[0;34m]\u001b[0m\u001b[0;34m)\u001b[0m\u001b[0;34m\u001b[0m\u001b[0;34m\u001b[0m\u001b[0m\n",
      "\u001b[0;32m~/anaconda3/envs/grimp/lib/python3.9/site-packages/pandas/core/frame.py\u001b[0m in \u001b[0;36m__getitem__\u001b[0;34m(self, key)\u001b[0m\n\u001b[1;32m   3022\u001b[0m             \u001b[0;32mif\u001b[0m \u001b[0mself\u001b[0m\u001b[0;34m.\u001b[0m\u001b[0mcolumns\u001b[0m\u001b[0;34m.\u001b[0m\u001b[0mnlevels\u001b[0m \u001b[0;34m>\u001b[0m \u001b[0;36m1\u001b[0m\u001b[0;34m:\u001b[0m\u001b[0;34m\u001b[0m\u001b[0;34m\u001b[0m\u001b[0m\n\u001b[1;32m   3023\u001b[0m                 \u001b[0;32mreturn\u001b[0m \u001b[0mself\u001b[0m\u001b[0;34m.\u001b[0m\u001b[0m_getitem_multilevel\u001b[0m\u001b[0;34m(\u001b[0m\u001b[0mkey\u001b[0m\u001b[0;34m)\u001b[0m\u001b[0;34m\u001b[0m\u001b[0;34m\u001b[0m\u001b[0m\n\u001b[0;32m-> 3024\u001b[0;31m             \u001b[0mindexer\u001b[0m \u001b[0;34m=\u001b[0m \u001b[0mself\u001b[0m\u001b[0;34m.\u001b[0m\u001b[0mcolumns\u001b[0m\u001b[0;34m.\u001b[0m\u001b[0mget_loc\u001b[0m\u001b[0;34m(\u001b[0m\u001b[0mkey\u001b[0m\u001b[0;34m)\u001b[0m\u001b[0;34m\u001b[0m\u001b[0;34m\u001b[0m\u001b[0m\n\u001b[0m\u001b[1;32m   3025\u001b[0m             \u001b[0;32mif\u001b[0m \u001b[0mis_integer\u001b[0m\u001b[0;34m(\u001b[0m\u001b[0mindexer\u001b[0m\u001b[0;34m)\u001b[0m\u001b[0;34m:\u001b[0m\u001b[0;34m\u001b[0m\u001b[0;34m\u001b[0m\u001b[0m\n\u001b[1;32m   3026\u001b[0m                 \u001b[0mindexer\u001b[0m \u001b[0;34m=\u001b[0m \u001b[0;34m[\u001b[0m\u001b[0mindexer\u001b[0m\u001b[0;34m]\u001b[0m\u001b[0;34m\u001b[0m\u001b[0;34m\u001b[0m\u001b[0m\n",
      "\u001b[0;32m~/anaconda3/envs/grimp/lib/python3.9/site-packages/pandas/core/indexes/base.py\u001b[0m in \u001b[0;36mget_loc\u001b[0;34m(self, key, method, tolerance)\u001b[0m\n\u001b[1;32m   3080\u001b[0m                 \u001b[0;32mreturn\u001b[0m \u001b[0mself\u001b[0m\u001b[0;34m.\u001b[0m\u001b[0m_engine\u001b[0m\u001b[0;34m.\u001b[0m\u001b[0mget_loc\u001b[0m\u001b[0;34m(\u001b[0m\u001b[0mcasted_key\u001b[0m\u001b[0;34m)\u001b[0m\u001b[0;34m\u001b[0m\u001b[0;34m\u001b[0m\u001b[0m\n\u001b[1;32m   3081\u001b[0m             \u001b[0;32mexcept\u001b[0m \u001b[0mKeyError\u001b[0m \u001b[0;32mas\u001b[0m \u001b[0merr\u001b[0m\u001b[0;34m:\u001b[0m\u001b[0;34m\u001b[0m\u001b[0;34m\u001b[0m\u001b[0m\n\u001b[0;32m-> 3082\u001b[0;31m                 \u001b[0;32mraise\u001b[0m \u001b[0mKeyError\u001b[0m\u001b[0;34m(\u001b[0m\u001b[0mkey\u001b[0m\u001b[0;34m)\u001b[0m \u001b[0;32mfrom\u001b[0m \u001b[0merr\u001b[0m\u001b[0;34m\u001b[0m\u001b[0;34m\u001b[0m\u001b[0m\n\u001b[0m\u001b[1;32m   3083\u001b[0m \u001b[0;34m\u001b[0m\u001b[0m\n\u001b[1;32m   3084\u001b[0m         \u001b[0;32mif\u001b[0m \u001b[0mtolerance\u001b[0m \u001b[0;32mis\u001b[0m \u001b[0;32mnot\u001b[0m \u001b[0;32mNone\u001b[0m\u001b[0;34m:\u001b[0m\u001b[0;34m\u001b[0m\u001b[0;34m\u001b[0m\u001b[0m\n",
      "\u001b[0;31mKeyError\u001b[0m: 'A1'"
     ]
    }
   ],
   "source": [
    "imputed_dataset_path = 'results/imputed_datasets/adult_nonulls_sample10_marital-status_20_imputed.csv'\n",
    "df_imp = pd.read_csv(imputed_dataset_path)\n",
    "_ = utils.incorrect_imputations(df_imp, df_orig, target_columns, nulls)"
   ]
  },
  {
   "cell_type": "code",
   "execution_count": 626,
   "metadata": {
    "collapsed": false,
    "jupyter": {
     "outputs_hidden": false
    },
    "pycharm": {
     "name": "#%%\n"
    }
   },
   "outputs": [
    {
     "name": "stdout",
     "output_type": "stream",
     "text": [
      "0.0\n",
      "0.8098471986417657\n",
      "0.8030560271646859\n",
      "0.0\n",
      "0.8505942275042445\n",
      "0.9762308998302207\n",
      "0.7911714770797963\n",
      "0.7232597623089984\n",
      "0.9185059422750425\n",
      "0.6791171477079796\n"
     ]
    }
   ],
   "source": [
    "misses_col = nulls.sum()\n",
    "for col in correct_imputations:\n",
    "    n_in = len(correct_imputations[col])\n",
    "    print(n_in/misses_col[col])"
   ]
  },
  {
   "cell_type": "code",
   "execution_count": 623,
   "metadata": {
    "collapsed": false,
    "jupyter": {
     "outputs_hidden": false
    },
    "pycharm": {
     "name": "#%%\n"
    }
   },
   "outputs": [
    {
     "data": {
      "text/plain": [
       "589"
      ]
     },
     "execution_count": 623,
     "metadata": {},
     "output_type": "execute_result"
    }
   ],
   "source": [
    "misses_col[col]"
   ]
  },
  {
   "cell_type": "code",
   "execution_count": null,
   "metadata": {
    "collapsed": false,
    "jupyter": {
     "outputs_hidden": false
    },
    "pycharm": {
     "name": "#%%\n"
    }
   },
   "outputs": [],
   "source": []
  }
 ],
 "metadata": {
  "kernelspec": {
   "display_name": "Python 3.9.12 ('base')",
   "language": "python",
   "name": "python3"
  },
  "language_info": {
   "codemirror_mode": {
    "name": "ipython",
    "version": 3
   },
   "file_extension": ".py",
   "mimetype": "text/x-python",
   "name": "python",
   "nbconvert_exporter": "python",
   "pygments_lexer": "ipython3",
   "version": "3.9.12"
  },
  "vscode": {
   "interpreter": {
    "hash": "a52ef4cfbfd8a49c777add06af4fd65e7ed1d7e9699ed30e2f5899af5cc811db"
   }
  }
 },
 "nbformat": 4,
 "nbformat_minor": 4
}
