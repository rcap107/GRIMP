{
 "cells": [
  {
   "cell_type": "code",
   "execution_count": 108,
   "metadata": {
    "collapsed": false,
    "jupyter": {
     "outputs_hidden": false
    },
    "pycharm": {
     "name": "#%%\n"
    }
   },
   "outputs": [],
   "source": [
    "import pandas as pd\n",
    "from tqdm import tqdm"
   ]
  },
  {
   "cell_type": "code",
   "execution_count": 110,
   "metadata": {
    "collapsed": false,
    "jupyter": {
     "outputs_hidden": false
    },
    "pycharm": {
     "name": "#%%\n"
    }
   },
   "outputs": [],
   "source": [
    "df_name = 'beer'\n",
    "df_orig = pd.read_csv(f'data/{df_name}/{df_name}.csv')\n",
    "df_dirty = pd.read_csv(f'data/{df_name}/{df_name}_all_columns_20.csv')"
   ]
  },
  {
   "cell_type": "code",
   "execution_count": 111,
   "metadata": {
    "collapsed": false,
    "jupyter": {
     "outputs_hidden": false
    },
    "pycharm": {
     "name": "#%%\n"
    }
   },
   "outputs": [],
   "source": [
    "numerical_columns = df_dirty.select_dtypes(include='number').columns.to_list()\n",
    "categorical_columns = [col for col in df_dirty.columns if col not in numerical_columns]\n"
   ]
  },
  {
   "cell_type": "code",
   "execution_count": 112,
   "metadata": {
    "collapsed": false,
    "jupyter": {
     "outputs_hidden": false
    },
    "pycharm": {
     "name": "#%%\n"
    }
   },
   "outputs": [],
   "source": [
    "v_counts = {col: None for col in df_dirty.columns}\n",
    "quantiles = {col: None for col in df_dirty.columns}\n",
    "for col in df_dirty.columns:\n",
    "    v_counts[col]=df_dirty.value_counts(col)\n",
    "    quantiles[col] = v_counts[col].quantile(.20)"
   ]
  },
  {
   "cell_type": "code",
   "execution_count": 113,
   "metadata": {
    "collapsed": false,
    "jupyter": {
     "outputs_hidden": false
    },
    "pycharm": {
     "name": "#%%\n"
    }
   },
   "outputs": [],
   "source": [
    "n_split = {col: {} for col in df_dirty.columns}\n",
    "for col in df_dirty.columns:\n",
    "    for val in v_counts[col].index:\n",
    "        n_split[col][val] = v_counts[col][val]//quantiles[col] + (v_counts[col][val]%quantiles[col]>0)"
   ]
  },
  {
   "cell_type": "code",
   "execution_count": 114,
   "metadata": {
    "collapsed": false,
    "jupyter": {
     "outputs_hidden": false
    },
    "pycharm": {
     "name": "#%%\n"
    }
   },
   "outputs": [
    {
     "data": {
      "text/plain": [
       "{'beer_name': beer_name\n",
       " flying_monkey_amber_ale         2\n",
       " rockets_red_ale                 2\n",
       " 100_meter_ale                   1\n",
       " prohibition_ale                 1\n",
       " pike_pale_heirloom_amber_ale    1\n",
       "                                ..\n",
       " fat_tire_amber_ale              1\n",
       " fattener_14                     1\n",
       " fiddler_s_green_amber           1\n",
       " fin_de_si_cle                   1\n",
       " zz_amber_ale                    1\n",
       " Length: 798, dtype: int64,\n",
       " 'brew_factory_name': brew_factory_name\n",
       " cigar_city_brewing                6\n",
       " rogue_ales                        6\n",
       " peak_organic_brewing_company      5\n",
       " world_brews                       5\n",
       " rock_bottom_restaurant_brewery    4\n",
       "                                  ..\n",
       " galena_brewing_company            1\n",
       " garrison_brewing_company          1\n",
       " geneva_lake_brewing_company       1\n",
       " georgetown_brewing_company        1\n",
       " yukon_brewing_company             1\n",
       " Length: 656, dtype: int64,\n",
       " 'style': style\n",
       " american_amber_red_ale    800\n",
       " dtype: int64,\n",
       " 'abv': abv\n",
       " 5.0     81\n",
       " 5.5     68\n",
       " 0.0     59\n",
       " 6.0     53\n",
       " 5.2     45\n",
       "         ..\n",
       " 9.4      1\n",
       " 9.1      1\n",
       " 8.9      1\n",
       " 3.5      1\n",
       " 13.0     1\n",
       " Length: 62, dtype: int64}"
      ]
     },
     "execution_count": 114,
     "metadata": {},
     "output_type": "execute_result"
    }
   ],
   "source": [
    "v_counts"
   ]
  },
  {
   "cell_type": "code",
   "execution_count": null,
   "metadata": {
    "collapsed": false,
    "jupyter": {
     "outputs_hidden": false
    },
    "pycharm": {
     "name": "#%%\n"
    }
   },
   "outputs": [],
   "source": [
    "counts = n_split.copy()"
   ]
  },
  {
   "cell_type": "code",
   "execution_count": 104,
   "metadata": {
    "collapsed": false,
    "jupyter": {
     "outputs_hidden": false
    },
    "pycharm": {
     "name": "#%%\n"
    }
   },
   "outputs": [],
   "source": [
    "df_orig_strat = df_orig.copy()\n",
    "df_dirty_strat = df_dirty.copy()\n",
    "\n",
    "for idx, row in tqdm(df_orig.iterrows(), total=len(df_orig)):\n",
    "    for col in df_dirty.columns:\n",
    "        if col in numerical_columns:\n",
    "            continue\n",
    "        quantile = quantiles[col]\n",
    "        val = row[col]\n",
    "        count = counts[col][val]\n",
    "        df_orig_strat.loc[idx, col] = f'{val}_{int(count)}'\n",
    "        if not pd.isna(val):\n",
    "            df_dirty_strat.loc[idx, col] = f'{val}_{int(count)}'\n",
    "            counts[col][val]-=1\n",
    "        if counts[col][val] == 0:\n",
    "            counts[col][val] = n_split[col][val]"
   ]
  },
  {
   "cell_type": "code",
   "execution_count": 106,
   "metadata": {
    "collapsed": false,
    "jupyter": {
     "outputs_hidden": false
    },
    "pycharm": {
     "name": "#%%\n"
    }
   },
   "outputs": [],
   "source": [
    "df_dirty_strat.to_csv(f'data/main-exp-batch/new_datasets_dirty/{df_name}_all_columns_20_stratified.csv', index=False)\n",
    "df_orig_strat.to_csv(f'data/main-exp-batch/new_datasets/{df_name}_stratified.csv', index=False)\n"
   ]
  },
  {
   "cell_type": "code",
   "execution_count": null,
   "metadata": {
    "collapsed": false,
    "jupyter": {
     "outputs_hidden": false
    },
    "pycharm": {
     "name": "#%%\n"
    }
   },
   "outputs": [],
   "source": []
  }
 ],
 "metadata": {
  "kernelspec": {
   "display_name": "Python 3.9.12 ('base')",
   "language": "python",
   "name": "python3"
  },
  "language_info": {
   "codemirror_mode": {
    "name": "ipython",
    "version": 3
   },
   "file_extension": ".py",
   "mimetype": "text/x-python",
   "name": "python",
   "nbconvert_exporter": "python",
   "pygments_lexer": "ipython3",
   "version": "3.9.12"
  },
  "vscode": {
   "interpreter": {
    "hash": "a52ef4cfbfd8a49c777add06af4fd65e7ed1d7e9699ed30e2f5899af5cc811db"
   }
  }
 },
 "nbformat": 4,
 "nbformat_minor": 4
}
