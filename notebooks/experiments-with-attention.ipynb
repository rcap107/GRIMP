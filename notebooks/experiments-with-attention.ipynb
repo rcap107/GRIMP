{
 "cells": [
  {
   "cell_type": "code",
   "execution_count": 205,
   "id": "d776b156-9d3f-42fd-8de7-bdfd6ec5edb0",
   "metadata": {},
   "outputs": [],
   "source": [
    "import numpy as np\n",
    "from scipy.special import softmax\n",
    "import matplotlib.pyplot as plt\n",
    "\n",
    "n_col = 10\n",
    "n_row = 1\n",
    "target_col = [1,3,0]\n",
    "dim=16\n",
    "\n",
    "q = np.random.random((n_row, n_col))\n",
    "k = np.zeros((n_row, n_col))\n",
    "k[:,target_col] = 1\n",
    "\n",
    "v = np.random.random((n_row, n_col, dim))\n",
    "\n",
    "m = np.ones((n_row, n_col))\n",
    "m[:,1] = 0"
   ]
  },
  {
   "cell_type": "code",
   "execution_count": 224,
   "id": "553854ba-da62-43ba-8fd5-eebba5e8713a",
   "metadata": {},
   "outputs": [
    {
     "data": {
      "text/plain": [
       "(1, 160)"
      ]
     },
     "execution_count": 224,
     "metadata": {},
     "output_type": "execute_result"
    }
   ],
   "source": [
    "np.reshape(v, (n_row, n_col*dim) ).shape"
   ]
  },
  {
   "cell_type": "code",
   "execution_count": 206,
   "id": "67a450b2-68b0-4872-94e7-c3872ef76644",
   "metadata": {},
   "outputs": [
    {
     "data": {
      "text/plain": [
       "<matplotlib.image.AxesImage at 0x7f51864c9e50>"
      ]
     },
     "execution_count": 206,
     "metadata": {},
     "output_type": "execute_result"
    },
    {
     "data": {
      "image/png": "[encoded data removed]",
      "text/plain": [
       "<Figure size 432x288 with 1 Axes>"
      ]
     },
     "metadata": {
      "needs_background": "light"
     },
     "output_type": "display_data"
    }
   ],
   "source": [
    "kq = np.matmul(k.transpose(), q)\n",
    "\n",
    "plt.imshow(kq)"
   ]
  },
  {
   "cell_type": "code",
   "execution_count": 207,
   "id": "d41e28ad-1cc9-498e-ad0b-6d04e4a593bf",
   "metadata": {},
   "outputs": [
    {
     "data": {
      "text/plain": [
       "array([[0.29547574, 0.02893677, 0.61944066, 0.74920766, 0.50777441,\n",
       "        0.94730311, 0.91654917, 0.20610587, 0.35559658, 0.14457993]])"
      ]
     },
     "execution_count": 207,
     "metadata": {},
     "output_type": "execute_result"
    }
   ],
   "source": [
    "q"
   ]
  },
  {
   "cell_type": "code",
   "execution_count": 208,
   "id": "20ea10e1-a143-46cc-b4ea-6d39588bd826",
   "metadata": {},
   "outputs": [],
   "source": [
    "sm1 = softmax(kq, axis=1)\n",
    "sm2 = softmax(kq, axis=0)"
   ]
  },
  {
   "cell_type": "code",
   "execution_count": 209,
   "id": "cb56850b-6fb5-4ae5-9af9-48ef0daaf78b",
   "metadata": {},
   "outputs": [
    {
     "data": {
      "text/plain": [
       "<AxesSubplot:>"
      ]
     },
     "execution_count": 209,
     "metadata": {},
     "output_type": "execute_result"
    },
    {
     "data": {
      "image/png": "[encoded data removed]",
      "text/plain": [
       "<Figure size 432x288 with 2 Axes>"
      ]
     },
     "metadata": {
      "needs_background": "light"
     },
     "output_type": "display_data"
    }
   ],
   "source": [
    "sns.heatmap(sm2)"
   ]
  },
  {
   "cell_type": "code",
   "execution_count": 210,
   "id": "c8c0aba2-9879-49c0-850a-5e4b6c234d16",
   "metadata": {},
   "outputs": [
    {
     "data": {
      "text/plain": [
       "<matplotlib.image.AxesImage at 0x7f51863cb160>"
      ]
     },
     "execution_count": 210,
     "metadata": {},
     "output_type": "execute_result"
    },
    {
     "data": {
      "image/png": "[encoded data removed]",
      "text/plain": [
       "<Figure size 432x288 with 1 Axes>"
      ]
     },
     "metadata": {
      "needs_background": "light"
     },
     "output_type": "display_data"
    }
   ],
   "source": [
    "plt.imshow(sm2)"
   ]
  },
  {
   "cell_type": "code",
   "execution_count": 211,
   "id": "3dbc4987-4199-4972-aae6-92b36c330370",
   "metadata": {},
   "outputs": [
    {
     "data": {
      "text/plain": [
       "<matplotlib.image.AxesImage at 0x7f5186315730>"
      ]
     },
     "execution_count": 211,
     "metadata": {},
     "output_type": "execute_result"
    },
    {
     "data": {
      "image/png": "[encoded data removed]",
      "text/plain": [
       "<Figure size 432x288 with 1 Axes>"
      ]
     },
     "metadata": {
      "needs_background": "light"
     },
     "output_type": "display_data"
    }
   ],
   "source": [
    "mkq = np.matmul(m, sm2)\n",
    "plt.imshow(mkq)"
   ]
  },
  {
   "cell_type": "code",
   "execution_count": 218,
   "id": "84c4fca8-b38a-43b8-859d-550a57c69ffd",
   "metadata": {},
   "outputs": [
    {
     "data": {
      "text/plain": [
       "<matplotlib.image.AxesImage at 0x7f51860cf460>"
      ]
     },
     "execution_count": 218,
     "metadata": {},
     "output_type": "execute_result"
    },
    {
     "data": {
      "image/png": "[encoded data removed]",
      "text/plain": [
       "<Figure size 432x288 with 1 Axes>"
      ]
     },
     "metadata": {
      "needs_background": "light"
     },
     "output_type": "display_data"
    }
   ],
   "source": [
    "res1 = np.matmul(mkq, v)\n",
    "\n",
    "plt.imshow(res1[0,:,:])"
   ]
  },
  {
   "cell_type": "code",
   "execution_count": 219,
   "id": "ff561705-5966-436b-aa51-652490cc08f2",
   "metadata": {},
   "outputs": [
    {
     "data": {
      "text/plain": [
       "<matplotlib.image.AxesImage at 0x7f51860a0ca0>"
      ]
     },
     "execution_count": 219,
     "metadata": {},
     "output_type": "execute_result"
    },
    {
     "data": {
      "image/png": "[encoded data removed]",
      "text/plain": [
       "<Figure size 432x288 with 1 Axes>"
      ]
     },
     "metadata": {
      "needs_background": "light"
     },
     "output_type": "display_data"
    }
   ],
   "source": [
    "res2 = np.matmul(np.ones_like(m), v)\n",
    "\n",
    "plt.imshow(res2[0,:,:])"
   ]
  },
  {
   "cell_type": "code",
   "execution_count": 213,
   "id": "a26daa41-005e-4377-bae7-94411a97a47c",
   "metadata": {},
   "outputs": [
    {
     "data": {
      "text/plain": [
       "<matplotlib.image.AxesImage at 0x7f518650c5b0>"
      ]
     },
     "execution_count": 213,
     "metadata": {},
     "output_type": "execute_result"
    },
    {
     "data": {
      "image/png": "[encoded data removed]",
      "text/plain": [
       "<Figure size 432x288 with 1 Axes>"
      ]
     },
     "metadata": {
      "needs_background": "light"
     },
     "output_type": "display_data"
    }
   ],
   "source": [
    "res = np.matmul(kq, v)\n",
    "\n",
    "plt.imshow(res[0,:,:])"
   ]
  },
  {
   "cell_type": "markdown",
   "id": "416a1da2-94f6-4b0d-83c7-0111966835cd",
   "metadata": {},
   "source": [
    "# New"
   ]
  },
  {
   "cell_type": "code",
   "execution_count": 234,
   "id": "eb8bb96f-96d6-42a0-84f7-096f02d75d62",
   "metadata": {},
   "outputs": [],
   "source": [
    "n_col = 6\n",
    "n_tuples = 17\n",
    "dim=5\n",
    "target_col=[1,3]"
   ]
  },
  {
   "cell_type": "code",
   "execution_count": 235,
   "id": "532338bc-b0ac-4fd6-91a5-4c78b7320f6f",
   "metadata": {},
   "outputs": [],
   "source": [
    "q = np.random.random((n_col,n_col))"
   ]
  },
  {
   "cell_type": "code",
   "execution_count": 328,
   "id": "54ef2ca8-8589-4f54-8e37-48f984db1bcb",
   "metadata": {},
   "outputs": [
    {
     "data": {
      "image/png": "[encoded data removed]",
      "text/plain": [
       "<Figure size 432x288 with 1 Axes>"
      ]
     },
     "metadata": {
      "needs_background": "light"
     },
     "output_type": "display_data"
    },
    {
     "data": {
      "image/png": "[encoded data removed]",
      "text/plain": [
       "<Figure size 432x288 with 1 Axes>"
      ]
     },
     "metadata": {
      "needs_background": "light"
     },
     "output_type": "display_data"
    },
    {
     "name": "stdout",
     "output_type": "stream",
     "text": [
      "(17, 17, 6)\n"
     ]
    },
    {
     "data": {
      "text/plain": [
       "<matplotlib.image.AxesImage at 0x7f5185aeb550>"
      ]
     },
     "execution_count": 328,
     "metadata": {},
     "output_type": "execute_result"
    },
    {
     "data": {
      "image/png": "[encoded data removed]",
      "text/plain": [
       "<Figure size 432x288 with 1 Axes>"
      ]
     },
     "metadata": {
      "needs_background": "light"
     },
     "output_type": "display_data"
    }
   ],
   "source": [
    "k = np.zeros((n_tuples,n_col,n_col))\n",
    "k[:, target_col, target_col] = 1\n",
    "plt.imshow(k[0])\n",
    "plt.show()\n",
    "\n",
    "m = np.ones((n_tuples, n_col))\n",
    "\n",
    "m[np.sum(k, axis=1, dtype=int)==1]=0\n",
    "\n",
    "kt = k.transpose((0, 2,1))\n",
    "\n",
    "kq = kt@q\n",
    "\n",
    "plt.imshow(kq[0,:,:])\n",
    "plt.show()\n",
    "sm = softmax(kq, axis=1)\n",
    "\n",
    "mkq = m@sm\n",
    "print(mkq.shape)\n",
    "plt.imshow(mkq[0])"
   ]
  },
  {
   "cell_type": "code",
   "execution_count": 330,
   "id": "a7905a95-177d-4bcd-bfe8-5d6b63e10b0f",
   "metadata": {},
   "outputs": [
    {
     "data": {
      "image/png": "[encoded data removed]",
      "text/plain": [
       "<Figure size 432x288 with 1 Axes>"
      ]
     },
     "metadata": {
      "needs_background": "light"
     },
     "output_type": "display_data"
    },
    {
     "data": {
      "image/png": "[encoded data removed]",
      "text/plain": [
       "<Figure size 432x288 with 1 Axes>"
      ]
     },
     "metadata": {
      "needs_background": "light"
     },
     "output_type": "display_data"
    },
    {
     "name": "stdout",
     "output_type": "stream",
     "text": [
      "(17, 17, 6)\n",
      "[[0.66666667 0.66666667 0.66666667 0.66666667 0.66666667 0.66666667]\n",
      " [0.66666667 0.66666667 0.66666667 0.66666667 0.66666667 0.66666667]\n",
      " [0.66666667 0.66666667 0.66666667 0.66666667 0.66666667 0.66666667]\n",
      " [0.66666667 0.66666667 0.66666667 0.66666667 0.66666667 0.66666667]\n",
      " [0.66666667 0.66666667 0.66666667 0.66666667 0.66666667 0.66666667]\n",
      " [0.66666667 0.66666667 0.66666667 0.66666667 0.66666667 0.66666667]\n",
      " [0.66666667 0.66666667 0.66666667 0.66666667 0.66666667 0.66666667]\n",
      " [0.66666667 0.66666667 0.66666667 0.66666667 0.66666667 0.66666667]\n",
      " [0.66666667 0.66666667 0.66666667 0.66666667 0.66666667 0.66666667]\n",
      " [0.66666667 0.66666667 0.66666667 0.66666667 0.66666667 0.66666667]\n",
      " [0.66666667 0.66666667 0.66666667 0.66666667 0.66666667 0.66666667]\n",
      " [0.66666667 0.66666667 0.66666667 0.66666667 0.66666667 0.66666667]\n",
      " [0.66666667 0.66666667 0.66666667 0.66666667 0.66666667 0.66666667]\n",
      " [0.66666667 0.66666667 0.66666667 0.66666667 0.66666667 0.66666667]\n",
      " [0.66666667 0.66666667 0.66666667 0.66666667 0.66666667 0.66666667]\n",
      " [0.66666667 0.66666667 0.66666667 0.66666667 0.66666667 0.66666667]\n",
      " [0.66666667 0.66666667 0.66666667 0.66666667 0.66666667 0.66666667]]\n"
     ]
    },
    {
     "data": {
      "image/png": "[encoded data removed]",
      "text/plain": [
       "<Figure size 432x288 with 1 Axes>"
      ]
     },
     "metadata": {
      "needs_background": "light"
     },
     "output_type": "display_data"
    }
   ],
   "source": [
    "k = np.zeros((n_tuples,n_col,n_col))\n",
    "k[:, target_col, :] = 1\n",
    "plt.imshow(k[0])\n",
    "plt.show()\n",
    "kt = k.transpose((0, 2,1))\n",
    "\n",
    "kq = kt@q\n",
    "\n",
    "plt.imshow(kq[0])\n",
    "plt.show()\n",
    "sm = softmax(kq, axis=1)\n",
    "\n",
    "mkq = m@sm\n",
    "print(mkq.shape)\n",
    "\n",
    "plt.imshow(mkq[0])\n",
    "print(mkq[0])"
   ]
  },
  {
   "cell_type": "markdown",
   "id": "2819e79a-ed73-4807-b266-c2f4d39d6b9e",
   "metadata": {},
   "source": [
    "# Third"
   ]
  },
  {
   "cell_type": "code",
   "execution_count": 370,
   "id": "e6d007c2-f7a4-426d-8330-b084a8edd6a5",
   "metadata": {},
   "outputs": [],
   "source": [
    "C = 6\n",
    "N = 17\n",
    "D = 16\n",
    "target_col=[1,3]"
   ]
  },
  {
   "cell_type": "code",
   "execution_count": 371,
   "id": "de283a11-b90d-45a9-b68b-68e59e13d852",
   "metadata": {},
   "outputs": [],
   "source": [
    "q = np.random.random((C,D))"
   ]
  },
  {
   "cell_type": "code",
   "execution_count": 372,
   "id": "6d0f8052-518c-4865-8c89-514281867fb3",
   "metadata": {},
   "outputs": [
    {
     "data": {
      "image/png": "[encoded data removed]",
      "text/plain": [
       "<Figure size 432x288 with 1 Axes>"
      ]
     },
     "metadata": {
      "needs_background": "light"
     },
     "output_type": "display_data"
    },
    {
     "data": {
      "image/png": "[encoded data removed]",
      "text/plain": [
       "<Figure size 432x288 with 1 Axes>"
      ]
     },
     "metadata": {
      "needs_background": "light"
     },
     "output_type": "display_data"
    },
    {
     "name": "stdout",
     "output_type": "stream",
     "text": [
      "(16, 16)\n"
     ]
    },
    {
     "data": {
      "text/plain": [
       "<matplotlib.image.AxesImage at 0x7f518575f250>"
      ]
     },
     "execution_count": 372,
     "metadata": {},
     "output_type": "execute_result"
    },
    {
     "data": {
      "image/png": "[encoded data removed]",
      "text/plain": [
       "<Figure size 432x288 with 1 Axes>"
      ]
     },
     "metadata": {
      "needs_background": "light"
     },
     "output_type": "display_data"
    }
   ],
   "source": [
    "k = np.zeros((C,C))\n",
    "k[target_col, target_col] = 1\n",
    "plt.imshow(k)\n",
    "plt.show()\n",
    "\n",
    "m = np.ones((D, C))\n",
    "\n",
    "# m[np.sum(k, axis=1, dtype=int)==1]=0\n",
    "\n",
    "kt = k.transpose((1,0))\n",
    "\n",
    "kq = kt@q\n",
    "\n",
    "plt.imshow(kq)\n",
    "plt.show()\n",
    "sm = softmax(kq, axis=1)\n",
    "\n",
    "mkq = m@sm\n",
    "print(mkq.shape)\n",
    "plt.imshow(mkq)"
   ]
  },
  {
   "cell_type": "code",
   "execution_count": 373,
   "id": "470e9bb9-8b88-4516-a660-9ecdaaf09b46",
   "metadata": {},
   "outputs": [],
   "source": [
    "v = np.random.random((N, D))"
   ]
  },
  {
   "cell_type": "code",
   "execution_count": 374,
   "id": "f7eb86ba-52ce-4bad-b6c0-5a2a1bb01629",
   "metadata": {},
   "outputs": [
    {
     "data": {
      "text/plain": [
       "(17, 16)"
      ]
     },
     "execution_count": 374,
     "metadata": {},
     "output_type": "execute_result"
    }
   ],
   "source": [
    "v.shape"
   ]
  },
  {
   "cell_type": "code",
   "execution_count": 376,
   "id": "89b0ddce-86f2-4b2b-bf66-d0c174a18539",
   "metadata": {},
   "outputs": [
    {
     "data": {
      "text/plain": [
       "<matplotlib.image.AxesImage at 0x7f5185530970>"
      ]
     },
     "execution_count": 376,
     "metadata": {},
     "output_type": "execute_result"
    },
    {
     "data": {
      "image/png": "[encoded data removed]",
      "text/plain": [
       "<Figure size 432x288 with 1 Axes>"
      ]
     },
     "metadata": {
      "needs_background": "light"
     },
     "output_type": "display_data"
    }
   ],
   "source": [
    "plt.imshow(v@mkq)"
   ]
  },
  {
   "cell_type": "code",
   "execution_count": 377,
   "id": "cd63ffa9-f66d-46e4-9cc5-a2f21f33c6c1",
   "metadata": {},
   "outputs": [
    {
     "data": {
      "text/plain": [
       "<matplotlib.image.AxesImage at 0x7f51855b10d0>"
      ]
     },
     "execution_count": 377,
     "metadata": {},
     "output_type": "execute_result"
    },
    {
     "data": {
      "image/png": "[encoded data removed]",
      "text/plain": [
       "<Figure size 432x288 with 1 Axes>"
      ]
     },
     "metadata": {
      "needs_background": "light"
     },
     "output_type": "display_data"
    }
   ],
   "source": [
    "plt.imshow(v)"
   ]
  },
  {
   "cell_type": "code",
   "execution_count": null,
   "id": "cf41f497-60d1-419f-80f7-9afca3cd95ac",
   "metadata": {},
   "outputs": [],
   "source": []
  }
 ],
 "metadata": {
  "kernelspec": {
   "display_name": "Python 3.9.12 ('base')",
   "language": "python",
   "name": "python3"
  },
  "language_info": {
   "codemirror_mode": {
    "name": "ipython",
    "version": 3
   },
   "file_extension": ".py",
   "mimetype": "text/x-python",
   "name": "python",
   "nbconvert_exporter": "python",
   "pygments_lexer": "ipython3",
   "version": "3.9.12"
  },
  "vscode": {
   "interpreter": {
    "hash": "a52ef4cfbfd8a49c777add06af4fd65e7ed1d7e9699ed30e2f5899af5cc811db"
   }
  }
 },
 "nbformat": 4,
 "nbformat_minor": 5
}
